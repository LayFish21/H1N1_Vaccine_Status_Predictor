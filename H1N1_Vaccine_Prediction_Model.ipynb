{
 "cells": [
  {
   "cell_type": "markdown",
   "metadata": {},
   "source": [
    "# Phase 3 Final Project\n",
    "Created by Lucas Fishbein\n",
    "\n",
    "* Student name: Lucas Fishbein\n",
    "* Student pace: Flex Program\n",
    "* Scheduled project review date/time:\n",
    "* Instructor name: Mark Barbour\n",
    "* Blog post URL: \n"
   ]
  },
  {
   "cell_type": "markdown",
   "metadata": {},
   "source": [
    "# Overview and Business Problem\n",
    "\n",
    "As it has become very evident with the COVID-19 pandemic, in the globalized world we live in, diseases can quickly spread across the earth like wildfire. In many cases the best defense we have against diseases of this nature are vaccines. Looking at history, the effectiveness of vaccines can be seen via the near or complete eradication of incredibly destructive diseases such as pollio and smallpox. One lesson learned from the recent the Covid 19 Pandemic is that trust in vaccines varies highly in populations, with many people being resistent to taking a vaccine.\n",
    "\n",
    "The goal of this project is to examine a dataset of behavioral and demographic features of individuals recorded after the 2009 H1N1 flu virus, often referred to as \"swine flu\", in order to determine what factors may have influenced individuals to accept or reject a vaccine and from there, create action steps that will allow us as a population to increase vaccine rates for future diseases that may occur. \n",
    "\n",
    "The stakeholders for this project will be the US National Institutes of Health (NIH) who lead the charge on COVID-19 vaccine information dissemination. The hope of this project is to first allow them to identify those who may be resistent to receiving vaccines by creating a predictive model for vaccination status and secondly bring to light intervention steps that may help increase vaccine rates across the population.\n",
    "\n",
    "![GetVaccine-Blog](https://user-images.githubusercontent.com/117129342/231223874-66fd57bc-14cc-49ba-9ade-5afdc9bd018b.jpg)\n",
    "[Image source: Living.AAHS.org](https://living.aahs.org/coronavirus-covid-19/covid-19-vaccine-clinics-for-july/)\n",
    "\n"
   ]
  },
  {
   "cell_type": "markdown",
   "metadata": {},
   "source": [
    "# Data Analysis Results\n",
    "\n",
    "## Recommendations to Increase Vaccine Rates\n",
    "\n",
    "#### 1. Have Doctors recommend Vaccinations upon visits more frequently \n",
    "#### 2. Diseminate information on the effectiveness of the Vaccine and limit false anti-vaccine rhetoric \n",
    "#### 3. Be sure that people fully understand the risks of the present disease as well as the seasonal flu\n",
    "#### 4. Help the public understand the disease better through science communicators \n",
    "\n",
    "## Model's Stats for Predicting Vaccine Status\n",
    "\n",
    "\n",
    "                      precision   recall  f1-score   support\n",
    "\n",
    "    Not Vacinated       0.87      0.94      0.90      5260\n",
    "    Vaccinated          0.93      0.86      0.89      5260\n",
    "\n",
    "        accuracy                            0.90     10520\n",
    "        macro avg       0.90      0.90      0.90     10520\n",
    "        weighted avg    0.90      0.90      0.90     10520\n",
    "    \n",
    "\n"
   ]
  },
  {
   "cell_type": "markdown",
   "metadata": {},
   "source": [
    "# Database Understanding\n",
    "\n",
    "The present dataset consists of information on 26707 individuals broken into two csv files, one with the features of the individuals and the second with labels for the vaccination status for H1N1 of these subjects. These files both contain a unique respondent id number so the two files can be corroborated.\n",
    "\n",
    "The data is provided courtesy of the United States National Center for Health Statistics from [The National 2009 H1N1 Flu Survey. Hyattsville, MD: Centers for Disease Control and Prevention, 2012.](https://www.cdc.gov/nchs/nis/data_files_h1n1.htm)  \n",
    "\n",
    "\n",
    "### Feature Column Descriptions \n",
    "The first column, respondent_id, is a unique and random identifier. The remaining 35 features are described below.\n",
    "\n",
    "For all binary variables: 0 = No; 1 = Yes.\n",
    "\n",
    "* `respondent_id` - a unique and random identifier.\n",
    "* `h1n1_concern` - Level of concern about the H1N1 flu.\n",
    "0 = Not at all concerned; 1 = Not very concerned; 2 = Somewhat concerned; 3 = Very concerned.\n",
    "\n",
    "* `h1n1_knowledge` - Level of knowledge about H1N1 flu.\n",
    "0 = No knowledge; 1 = A little knowledge; 2 = A lot of knowledge.\n",
    "\n",
    "* `behavioral_antiviral_meds` - Has taken antiviral medications. (binary)\n",
    "* `behavioral_avoidance` - Has avoided close contact with others with flu-like symptoms. (binary)\n",
    "* `behavioral_face_mask` - Has bought a face mask. (binary)\n",
    "* `behavioral_wash_hands` - Has frequently washed hands or used hand sanitizer. (binary)\n",
    "* `behavioral_large_gatherings` - Has reduced time at large gatherings. (binary)\n",
    "* `behavioral_outside_home` - Has reduced contact with people outside of own household. (binary)\n",
    "* `behavioral_touch_face` - Has avoided touching eyes, nose, or mouth. (binary)\n",
    "* `doctor_recc_h1n1` - H1N1 flu vaccine was recommended by doctor. (binary)\n",
    "* `doctor_recc_seasonal` - Seasonal flu vaccine was recommended by doctor. (binary)\n",
    "\n",
    "* `chronic_med_condition` - Has any of the following chronic medical conditions: asthma or an other lung condition, diabetes, a heart condition, a kidney condition, sickle cell anemia or other anemia, a neurological or neuromuscular condition, a liver condition, or a weakened immune system caused by a chronic illness or by medicines taken for a chronic illness. (binary)\n",
    "\n",
    "* `child_under_6_months` - Has regular close contact with a child under the age of six months. (binary)\n",
    "* `health_worker` - Is a healthcare worker. (binary)\n",
    "* `health_insurance` - Has health insurance. (binary)\n",
    "\n",
    "* `opinion_h1n1_vacc_effective` - Respondent's opinion about H1N1 vaccine effectiveness.\n",
    "1 = Not at all effective; 2 = Not very effective; 3 = Don't know; 4 = Somewhat effective; 5 = Very effective.\n",
    "\n",
    "* `opinion_h1n1_risk` - Respondent's opinion about risk of getting sick with H1N1 flu without vaccine.\n",
    "1 = Very Low; 2 = Somewhat low; 3 = Don't know; 4 = Somewhat high; 5 = Very high.\n",
    "\n",
    "* `opinion_h1n1_sick_from_vacc` - Respondent's worry of getting sick from taking H1N1 vaccine.\n",
    "1 = Not at all worried; 2 = Not very worried; 3 = Don't know; 4 = Somewhat worried; 5 = Very worried.\n",
    "\n",
    "* `opinion_seas_vacc_effective` - Respondent's opinion about seasonal flu vaccine effectiveness.\n",
    "1 = Not at all effective; 2 = Not very effective; 3 = Don't know; 4 = Somewhat effective; 5 = Very effective.\n",
    "\n",
    "* `opinion_seas_risk` - Respondent's opinion about risk of getting sick with seasonal flu without vaccine.\n",
    "1 = Very Low; 2 = Somewhat low; 3 = Don't know; 4 = Somewhat high; 5 = Very high.\n",
    "\n",
    "* `opinion_seas_sick_from_vacc` - Respondent's worry of getting sick from taking seasonal flu vaccine.\n",
    "1 = Not at all worried; 2 = Not very worried; 3 = Don't know; 4 = Somewhat worried; 5 = Very worried.\n",
    "\n",
    "* `age_group` - Age group of respondent.\n",
    "* `education` - Self-reported education level.\n",
    "* `race` - Race of respondent.\n",
    "* `sex` - Sex of respondent.\n",
    "* `income_poverty` - Household annual income of respondent with respect to 2008 Census poverty thresholds.\n",
    "* `marital_status` - Marital status of respondent.\n",
    "* `rent_or_own` - Housing situation of respondent.\n",
    "* `employment_status` - Employment status of respondent.\n",
    "* `hhs_geo_region` - Respondent's residence using a 10-region geographic classification defined by the U.S. Dept. of Health and Human Services. Values are represented as short random character strings.\n",
    "\n",
    "* `census_msa` - Respondent's residence within metropolitan statistical areas (MSA) as defined by the U.S. Census.\n",
    "* `household_adults` - Number of other adults in household, top-coded to 3.\n",
    "* `household_children` - Number of children in household, top-coded to 3.\n",
    "* `employment_industry` - Type of industry respondent is employed in. Values are represented as short random character strings.\n",
    "* `employment_occupation` - Type of occupation of respondent. Values are represented as short random character strings."
   ]
  },
  {
   "cell_type": "markdown",
   "metadata": {},
   "source": [
    "# Data Exploration "
   ]
  },
  {
   "cell_type": "code",
   "execution_count": 221,
   "metadata": {},
   "outputs": [],
   "source": [
    "#Importing Modules and Packages\n",
    "\n",
    "import pandas as pd\n",
    "import numpy as np\n",
    "import matplotlib.pyplot as plt\n",
    "%matplotlib inline\n",
    "import seaborn as sns\n",
    "from sklearn.preprocessing import OneHotEncoder, StandardScaler, LabelEncoder\n",
    "from sklearn.neighbors import KNeighborsClassifier\n",
    "from sklearn.model_selection import train_test_split, GridSearchCV, cross_val_score, RandomizedSearchCV\n",
    "from sklearn.ensemble import RandomForestClassifier\n",
    "from sklearn.impute import SimpleImputer\n",
    "from sklearn.metrics import roc_auc_score, accuracy_score, confusion_matrix, classification_report\n",
    "from sklearn.tree import DecisionTreeClassifier\n",
    "from xgboost import XGBClassifier\n",
    "from imblearn.over_sampling import SMOTE\n",
    "from imblearn.pipeline import Pipeline #Using imblearn Pipeline to include SMOTE\n",
    "import re\n"
   ]
  },
  {
   "cell_type": "code",
   "execution_count": 104,
   "metadata": {},
   "outputs": [],
   "source": [
    "#Accessing Data from /data file\n",
    "\n",
    "#Creating dataframes from the Training features and labels data\n",
    "features_df = pd.read_csv('data/training_set_features.csv', index_col='respondent_id')\n",
    "labels_df = pd.read_csv('data/training_set_labels.csv', index_col='respondent_id')"
   ]
  },
  {
   "cell_type": "markdown",
   "metadata": {},
   "source": [
    "##  Labels Data Exploration\n",
    "First the labels df will be examined, which contains the vaccine status of each respondent."
   ]
  },
  {
   "cell_type": "code",
   "execution_count": 105,
   "metadata": {},
   "outputs": [
    {
     "name": "stdout",
     "output_type": "stream",
     "text": [
      "Training Feature df's shape: (26707, 35)\n",
      "Training label df's shape: (26707, 2)\n"
     ]
    },
    {
     "data": {
      "text/html": [
       "<div>\n",
       "<style scoped>\n",
       "    .dataframe tbody tr th:only-of-type {\n",
       "        vertical-align: middle;\n",
       "    }\n",
       "\n",
       "    .dataframe tbody tr th {\n",
       "        vertical-align: top;\n",
       "    }\n",
       "\n",
       "    .dataframe thead th {\n",
       "        text-align: right;\n",
       "    }\n",
       "</style>\n",
       "<table border=\"1\" class=\"dataframe\">\n",
       "  <thead>\n",
       "    <tr style=\"text-align: right;\">\n",
       "      <th></th>\n",
       "      <th>h1n1_vaccine</th>\n",
       "      <th>seasonal_vaccine</th>\n",
       "    </tr>\n",
       "    <tr>\n",
       "      <th>respondent_id</th>\n",
       "      <th></th>\n",
       "      <th></th>\n",
       "    </tr>\n",
       "  </thead>\n",
       "  <tbody>\n",
       "    <tr>\n",
       "      <th>0</th>\n",
       "      <td>0</td>\n",
       "      <td>0</td>\n",
       "    </tr>\n",
       "    <tr>\n",
       "      <th>1</th>\n",
       "      <td>0</td>\n",
       "      <td>1</td>\n",
       "    </tr>\n",
       "    <tr>\n",
       "      <th>2</th>\n",
       "      <td>0</td>\n",
       "      <td>0</td>\n",
       "    </tr>\n",
       "    <tr>\n",
       "      <th>3</th>\n",
       "      <td>0</td>\n",
       "      <td>1</td>\n",
       "    </tr>\n",
       "    <tr>\n",
       "      <th>4</th>\n",
       "      <td>0</td>\n",
       "      <td>0</td>\n",
       "    </tr>\n",
       "  </tbody>\n",
       "</table>\n",
       "</div>"
      ],
      "text/plain": [
       "               h1n1_vaccine  seasonal_vaccine\n",
       "respondent_id                                \n",
       "0                         0                 0\n",
       "1                         0                 1\n",
       "2                         0                 0\n",
       "3                         0                 1\n",
       "4                         0                 0"
      ]
     },
     "execution_count": 105,
     "metadata": {},
     "output_type": "execute_result"
    }
   ],
   "source": [
    "#Checking shape of dfs to be sure they row #s match\n",
    "print(\"Training Feature df's shape:\", features_df.shape)\n",
    "print(\"Training label df's shape:\", labels_df.shape)\n",
    "\n",
    "labels_df.head()"
   ]
  },
  {
   "cell_type": "markdown",
   "metadata": {},
   "source": [
    "Both the features and labels dfs have that same number of rows which is a good sign they both contain all of the same respondent ids.\n",
    "\n",
    "The labels df has a column for if the respodent received an H1N1 vaccine and one for the seasonal flu vaccine. \n",
    "For this project we are going to focus on the H1N1 vaccine status as the Target variable, so the seasonal_vaccine column will be dropped"
   ]
  },
  {
   "cell_type": "code",
   "execution_count": 106,
   "metadata": {},
   "outputs": [],
   "source": [
    "#Dropping seasonal vaccine info from labels\n",
    "labels_df.drop(columns='seasonal_vaccine', inplace=True, axis=1)"
   ]
  },
  {
   "cell_type": "code",
   "execution_count": 107,
   "metadata": {},
   "outputs": [
    {
     "data": {
      "text/plain": [
       "0    21033\n",
       "1     5674\n",
       "Name: h1n1_vaccine, dtype: int64"
      ]
     },
     "execution_count": 107,
     "metadata": {},
     "output_type": "execute_result"
    }
   ],
   "source": [
    "#Checking how balanced the data is between the classification targets\n",
    "labels_df['h1n1_vaccine'].value_counts()\n"
   ]
  },
  {
   "cell_type": "markdown",
   "metadata": {},
   "source": [
    "The majority of this dataset did not receive the H1N1 vaccine, coded as \"0\", so this dataset is very unbalanced. Steps will have to be taken within the model in order to balance out the training data, likely SMOTE will be utalized."
   ]
  },
  {
   "cell_type": "markdown",
   "metadata": {},
   "source": [
    "## Features Data Exploration"
   ]
  },
  {
   "cell_type": "code",
   "execution_count": 108,
   "metadata": {},
   "outputs": [
    {
     "data": {
      "text/html": [
       "<div>\n",
       "<style scoped>\n",
       "    .dataframe tbody tr th:only-of-type {\n",
       "        vertical-align: middle;\n",
       "    }\n",
       "\n",
       "    .dataframe tbody tr th {\n",
       "        vertical-align: top;\n",
       "    }\n",
       "\n",
       "    .dataframe thead th {\n",
       "        text-align: right;\n",
       "    }\n",
       "</style>\n",
       "<table border=\"1\" class=\"dataframe\">\n",
       "  <thead>\n",
       "    <tr style=\"text-align: right;\">\n",
       "      <th></th>\n",
       "      <th>h1n1_concern</th>\n",
       "      <th>h1n1_knowledge</th>\n",
       "      <th>behavioral_antiviral_meds</th>\n",
       "      <th>behavioral_avoidance</th>\n",
       "      <th>behavioral_face_mask</th>\n",
       "      <th>behavioral_wash_hands</th>\n",
       "      <th>behavioral_large_gatherings</th>\n",
       "      <th>behavioral_outside_home</th>\n",
       "      <th>behavioral_touch_face</th>\n",
       "      <th>doctor_recc_h1n1</th>\n",
       "      <th>...</th>\n",
       "      <th>income_poverty</th>\n",
       "      <th>marital_status</th>\n",
       "      <th>rent_or_own</th>\n",
       "      <th>employment_status</th>\n",
       "      <th>hhs_geo_region</th>\n",
       "      <th>census_msa</th>\n",
       "      <th>household_adults</th>\n",
       "      <th>household_children</th>\n",
       "      <th>employment_industry</th>\n",
       "      <th>employment_occupation</th>\n",
       "    </tr>\n",
       "    <tr>\n",
       "      <th>respondent_id</th>\n",
       "      <th></th>\n",
       "      <th></th>\n",
       "      <th></th>\n",
       "      <th></th>\n",
       "      <th></th>\n",
       "      <th></th>\n",
       "      <th></th>\n",
       "      <th></th>\n",
       "      <th></th>\n",
       "      <th></th>\n",
       "      <th></th>\n",
       "      <th></th>\n",
       "      <th></th>\n",
       "      <th></th>\n",
       "      <th></th>\n",
       "      <th></th>\n",
       "      <th></th>\n",
       "      <th></th>\n",
       "      <th></th>\n",
       "      <th></th>\n",
       "      <th></th>\n",
       "    </tr>\n",
       "  </thead>\n",
       "  <tbody>\n",
       "    <tr>\n",
       "      <th>0</th>\n",
       "      <td>1.0</td>\n",
       "      <td>0.0</td>\n",
       "      <td>0.0</td>\n",
       "      <td>0.0</td>\n",
       "      <td>0.0</td>\n",
       "      <td>0.0</td>\n",
       "      <td>0.0</td>\n",
       "      <td>1.0</td>\n",
       "      <td>1.0</td>\n",
       "      <td>0.0</td>\n",
       "      <td>...</td>\n",
       "      <td>Below Poverty</td>\n",
       "      <td>Not Married</td>\n",
       "      <td>Own</td>\n",
       "      <td>Not in Labor Force</td>\n",
       "      <td>oxchjgsf</td>\n",
       "      <td>Non-MSA</td>\n",
       "      <td>0.0</td>\n",
       "      <td>0.0</td>\n",
       "      <td>NaN</td>\n",
       "      <td>NaN</td>\n",
       "    </tr>\n",
       "    <tr>\n",
       "      <th>1</th>\n",
       "      <td>3.0</td>\n",
       "      <td>2.0</td>\n",
       "      <td>0.0</td>\n",
       "      <td>1.0</td>\n",
       "      <td>0.0</td>\n",
       "      <td>1.0</td>\n",
       "      <td>0.0</td>\n",
       "      <td>1.0</td>\n",
       "      <td>1.0</td>\n",
       "      <td>0.0</td>\n",
       "      <td>...</td>\n",
       "      <td>Below Poverty</td>\n",
       "      <td>Not Married</td>\n",
       "      <td>Rent</td>\n",
       "      <td>Employed</td>\n",
       "      <td>bhuqouqj</td>\n",
       "      <td>MSA, Not Principle  City</td>\n",
       "      <td>0.0</td>\n",
       "      <td>0.0</td>\n",
       "      <td>pxcmvdjn</td>\n",
       "      <td>xgwztkwe</td>\n",
       "    </tr>\n",
       "    <tr>\n",
       "      <th>2</th>\n",
       "      <td>1.0</td>\n",
       "      <td>1.0</td>\n",
       "      <td>0.0</td>\n",
       "      <td>1.0</td>\n",
       "      <td>0.0</td>\n",
       "      <td>0.0</td>\n",
       "      <td>0.0</td>\n",
       "      <td>0.0</td>\n",
       "      <td>0.0</td>\n",
       "      <td>NaN</td>\n",
       "      <td>...</td>\n",
       "      <td>&lt;= $75,000, Above Poverty</td>\n",
       "      <td>Not Married</td>\n",
       "      <td>Own</td>\n",
       "      <td>Employed</td>\n",
       "      <td>qufhixun</td>\n",
       "      <td>MSA, Not Principle  City</td>\n",
       "      <td>2.0</td>\n",
       "      <td>0.0</td>\n",
       "      <td>rucpziij</td>\n",
       "      <td>xtkaffoo</td>\n",
       "    </tr>\n",
       "    <tr>\n",
       "      <th>3</th>\n",
       "      <td>1.0</td>\n",
       "      <td>1.0</td>\n",
       "      <td>0.0</td>\n",
       "      <td>1.0</td>\n",
       "      <td>0.0</td>\n",
       "      <td>1.0</td>\n",
       "      <td>1.0</td>\n",
       "      <td>0.0</td>\n",
       "      <td>0.0</td>\n",
       "      <td>0.0</td>\n",
       "      <td>...</td>\n",
       "      <td>Below Poverty</td>\n",
       "      <td>Not Married</td>\n",
       "      <td>Rent</td>\n",
       "      <td>Not in Labor Force</td>\n",
       "      <td>lrircsnp</td>\n",
       "      <td>MSA, Principle City</td>\n",
       "      <td>0.0</td>\n",
       "      <td>0.0</td>\n",
       "      <td>NaN</td>\n",
       "      <td>NaN</td>\n",
       "    </tr>\n",
       "    <tr>\n",
       "      <th>4</th>\n",
       "      <td>2.0</td>\n",
       "      <td>1.0</td>\n",
       "      <td>0.0</td>\n",
       "      <td>1.0</td>\n",
       "      <td>0.0</td>\n",
       "      <td>1.0</td>\n",
       "      <td>1.0</td>\n",
       "      <td>0.0</td>\n",
       "      <td>1.0</td>\n",
       "      <td>0.0</td>\n",
       "      <td>...</td>\n",
       "      <td>&lt;= $75,000, Above Poverty</td>\n",
       "      <td>Married</td>\n",
       "      <td>Own</td>\n",
       "      <td>Employed</td>\n",
       "      <td>qufhixun</td>\n",
       "      <td>MSA, Not Principle  City</td>\n",
       "      <td>1.0</td>\n",
       "      <td>0.0</td>\n",
       "      <td>wxleyezf</td>\n",
       "      <td>emcorrxb</td>\n",
       "    </tr>\n",
       "  </tbody>\n",
       "</table>\n",
       "<p>5 rows × 35 columns</p>\n",
       "</div>"
      ],
      "text/plain": [
       "               h1n1_concern  h1n1_knowledge  behavioral_antiviral_meds  \\\n",
       "respondent_id                                                            \n",
       "0                       1.0             0.0                        0.0   \n",
       "1                       3.0             2.0                        0.0   \n",
       "2                       1.0             1.0                        0.0   \n",
       "3                       1.0             1.0                        0.0   \n",
       "4                       2.0             1.0                        0.0   \n",
       "\n",
       "               behavioral_avoidance  behavioral_face_mask  \\\n",
       "respondent_id                                               \n",
       "0                               0.0                   0.0   \n",
       "1                               1.0                   0.0   \n",
       "2                               1.0                   0.0   \n",
       "3                               1.0                   0.0   \n",
       "4                               1.0                   0.0   \n",
       "\n",
       "               behavioral_wash_hands  behavioral_large_gatherings  \\\n",
       "respondent_id                                                       \n",
       "0                                0.0                          0.0   \n",
       "1                                1.0                          0.0   \n",
       "2                                0.0                          0.0   \n",
       "3                                1.0                          1.0   \n",
       "4                                1.0                          1.0   \n",
       "\n",
       "               behavioral_outside_home  behavioral_touch_face  \\\n",
       "respondent_id                                                   \n",
       "0                                  1.0                    1.0   \n",
       "1                                  1.0                    1.0   \n",
       "2                                  0.0                    0.0   \n",
       "3                                  0.0                    0.0   \n",
       "4                                  0.0                    1.0   \n",
       "\n",
       "               doctor_recc_h1n1  ...             income_poverty  \\\n",
       "respondent_id                    ...                              \n",
       "0                           0.0  ...              Below Poverty   \n",
       "1                           0.0  ...              Below Poverty   \n",
       "2                           NaN  ...  <= $75,000, Above Poverty   \n",
       "3                           0.0  ...              Below Poverty   \n",
       "4                           0.0  ...  <= $75,000, Above Poverty   \n",
       "\n",
       "               marital_status  rent_or_own   employment_status  \\\n",
       "respondent_id                                                    \n",
       "0                 Not Married          Own  Not in Labor Force   \n",
       "1                 Not Married         Rent            Employed   \n",
       "2                 Not Married          Own            Employed   \n",
       "3                 Not Married         Rent  Not in Labor Force   \n",
       "4                     Married          Own            Employed   \n",
       "\n",
       "               hhs_geo_region                census_msa  household_adults  \\\n",
       "respondent_id                                                               \n",
       "0                    oxchjgsf                   Non-MSA               0.0   \n",
       "1                    bhuqouqj  MSA, Not Principle  City               0.0   \n",
       "2                    qufhixun  MSA, Not Principle  City               2.0   \n",
       "3                    lrircsnp       MSA, Principle City               0.0   \n",
       "4                    qufhixun  MSA, Not Principle  City               1.0   \n",
       "\n",
       "               household_children  employment_industry  employment_occupation  \n",
       "respondent_id                                                                  \n",
       "0                             0.0                  NaN                    NaN  \n",
       "1                             0.0             pxcmvdjn               xgwztkwe  \n",
       "2                             0.0             rucpziij               xtkaffoo  \n",
       "3                             0.0                  NaN                    NaN  \n",
       "4                             0.0             wxleyezf               emcorrxb  \n",
       "\n",
       "[5 rows x 35 columns]"
      ]
     },
     "execution_count": 108,
     "metadata": {},
     "output_type": "execute_result"
    }
   ],
   "source": [
    "features_df.head()"
   ]
  },
  {
   "cell_type": "code",
   "execution_count": 109,
   "metadata": {},
   "outputs": [
    {
     "name": "stdout",
     "output_type": "stream",
     "text": [
      "<class 'pandas.core.frame.DataFrame'>\n",
      "Int64Index: 26707 entries, 0 to 26706\n",
      "Data columns (total 35 columns):\n",
      " #   Column                       Non-Null Count  Dtype  \n",
      "---  ------                       --------------  -----  \n",
      " 0   h1n1_concern                 26615 non-null  float64\n",
      " 1   h1n1_knowledge               26591 non-null  float64\n",
      " 2   behavioral_antiviral_meds    26636 non-null  float64\n",
      " 3   behavioral_avoidance         26499 non-null  float64\n",
      " 4   behavioral_face_mask         26688 non-null  float64\n",
      " 5   behavioral_wash_hands        26665 non-null  float64\n",
      " 6   behavioral_large_gatherings  26620 non-null  float64\n",
      " 7   behavioral_outside_home      26625 non-null  float64\n",
      " 8   behavioral_touch_face        26579 non-null  float64\n",
      " 9   doctor_recc_h1n1             24547 non-null  float64\n",
      " 10  doctor_recc_seasonal         24547 non-null  float64\n",
      " 11  chronic_med_condition        25736 non-null  float64\n",
      " 12  child_under_6_months         25887 non-null  float64\n",
      " 13  health_worker                25903 non-null  float64\n",
      " 14  health_insurance             14433 non-null  float64\n",
      " 15  opinion_h1n1_vacc_effective  26316 non-null  float64\n",
      " 16  opinion_h1n1_risk            26319 non-null  float64\n",
      " 17  opinion_h1n1_sick_from_vacc  26312 non-null  float64\n",
      " 18  opinion_seas_vacc_effective  26245 non-null  float64\n",
      " 19  opinion_seas_risk            26193 non-null  float64\n",
      " 20  opinion_seas_sick_from_vacc  26170 non-null  float64\n",
      " 21  age_group                    26707 non-null  object \n",
      " 22  education                    25300 non-null  object \n",
      " 23  race                         26707 non-null  object \n",
      " 24  sex                          26707 non-null  object \n",
      " 25  income_poverty               22284 non-null  object \n",
      " 26  marital_status               25299 non-null  object \n",
      " 27  rent_or_own                  24665 non-null  object \n",
      " 28  employment_status            25244 non-null  object \n",
      " 29  hhs_geo_region               26707 non-null  object \n",
      " 30  census_msa                   26707 non-null  object \n",
      " 31  household_adults             26458 non-null  float64\n",
      " 32  household_children           26458 non-null  float64\n",
      " 33  employment_industry          13377 non-null  object \n",
      " 34  employment_occupation        13237 non-null  object \n",
      "dtypes: float64(23), object(12)\n",
      "memory usage: 7.3+ MB\n"
     ]
    }
   ],
   "source": [
    "#Examining feature datatypes\n",
    "features_df.info()"
   ]
  },
  {
   "cell_type": "markdown",
   "metadata": {},
   "source": [
    "A majority of the features are in a numeric binary form, while a number of them are objects with multiple values possible for each feature, these categorical values will be transformed into numerical data via One Hot Encoding prior to the training test group split. We can also see that a number of columns are missing data, this will be explored further as well."
   ]
  },
  {
   "cell_type": "code",
   "execution_count": 110,
   "metadata": {},
   "outputs": [
    {
     "data": {
      "text/html": [
       "<div>\n",
       "<style scoped>\n",
       "    .dataframe tbody tr th:only-of-type {\n",
       "        vertical-align: middle;\n",
       "    }\n",
       "\n",
       "    .dataframe tbody tr th {\n",
       "        vertical-align: top;\n",
       "    }\n",
       "\n",
       "    .dataframe thead th {\n",
       "        text-align: right;\n",
       "    }\n",
       "</style>\n",
       "<table border=\"1\" class=\"dataframe\">\n",
       "  <thead>\n",
       "    <tr style=\"text-align: right;\">\n",
       "      <th></th>\n",
       "      <th>h1n1_concern</th>\n",
       "      <th>h1n1_knowledge</th>\n",
       "      <th>behavioral_antiviral_meds</th>\n",
       "      <th>behavioral_avoidance</th>\n",
       "      <th>behavioral_face_mask</th>\n",
       "      <th>behavioral_wash_hands</th>\n",
       "      <th>behavioral_large_gatherings</th>\n",
       "      <th>behavioral_outside_home</th>\n",
       "      <th>behavioral_touch_face</th>\n",
       "      <th>doctor_recc_h1n1</th>\n",
       "      <th>...</th>\n",
       "      <th>health_worker</th>\n",
       "      <th>health_insurance</th>\n",
       "      <th>opinion_h1n1_vacc_effective</th>\n",
       "      <th>opinion_h1n1_risk</th>\n",
       "      <th>opinion_h1n1_sick_from_vacc</th>\n",
       "      <th>opinion_seas_vacc_effective</th>\n",
       "      <th>opinion_seas_risk</th>\n",
       "      <th>opinion_seas_sick_from_vacc</th>\n",
       "      <th>household_adults</th>\n",
       "      <th>household_children</th>\n",
       "    </tr>\n",
       "  </thead>\n",
       "  <tbody>\n",
       "    <tr>\n",
       "      <th>count</th>\n",
       "      <td>26615.000000</td>\n",
       "      <td>26591.000000</td>\n",
       "      <td>26636.000000</td>\n",
       "      <td>26499.000000</td>\n",
       "      <td>26688.000000</td>\n",
       "      <td>26665.000000</td>\n",
       "      <td>26620.00000</td>\n",
       "      <td>26625.000000</td>\n",
       "      <td>26579.000000</td>\n",
       "      <td>24547.000000</td>\n",
       "      <td>...</td>\n",
       "      <td>25903.000000</td>\n",
       "      <td>14433.00000</td>\n",
       "      <td>26316.000000</td>\n",
       "      <td>26319.000000</td>\n",
       "      <td>26312.000000</td>\n",
       "      <td>26245.000000</td>\n",
       "      <td>26193.000000</td>\n",
       "      <td>26170.000000</td>\n",
       "      <td>26458.000000</td>\n",
       "      <td>26458.000000</td>\n",
       "    </tr>\n",
       "    <tr>\n",
       "      <th>mean</th>\n",
       "      <td>1.618486</td>\n",
       "      <td>1.262532</td>\n",
       "      <td>0.048844</td>\n",
       "      <td>0.725612</td>\n",
       "      <td>0.068982</td>\n",
       "      <td>0.825614</td>\n",
       "      <td>0.35864</td>\n",
       "      <td>0.337315</td>\n",
       "      <td>0.677264</td>\n",
       "      <td>0.220312</td>\n",
       "      <td>...</td>\n",
       "      <td>0.111918</td>\n",
       "      <td>0.87972</td>\n",
       "      <td>3.850623</td>\n",
       "      <td>2.342566</td>\n",
       "      <td>2.357670</td>\n",
       "      <td>4.025986</td>\n",
       "      <td>2.719162</td>\n",
       "      <td>2.118112</td>\n",
       "      <td>0.886499</td>\n",
       "      <td>0.534583</td>\n",
       "    </tr>\n",
       "    <tr>\n",
       "      <th>std</th>\n",
       "      <td>0.910311</td>\n",
       "      <td>0.618149</td>\n",
       "      <td>0.215545</td>\n",
       "      <td>0.446214</td>\n",
       "      <td>0.253429</td>\n",
       "      <td>0.379448</td>\n",
       "      <td>0.47961</td>\n",
       "      <td>0.472802</td>\n",
       "      <td>0.467531</td>\n",
       "      <td>0.414466</td>\n",
       "      <td>...</td>\n",
       "      <td>0.315271</td>\n",
       "      <td>0.32530</td>\n",
       "      <td>1.007436</td>\n",
       "      <td>1.285539</td>\n",
       "      <td>1.362766</td>\n",
       "      <td>1.086565</td>\n",
       "      <td>1.385055</td>\n",
       "      <td>1.332950</td>\n",
       "      <td>0.753422</td>\n",
       "      <td>0.928173</td>\n",
       "    </tr>\n",
       "    <tr>\n",
       "      <th>min</th>\n",
       "      <td>0.000000</td>\n",
       "      <td>0.000000</td>\n",
       "      <td>0.000000</td>\n",
       "      <td>0.000000</td>\n",
       "      <td>0.000000</td>\n",
       "      <td>0.000000</td>\n",
       "      <td>0.00000</td>\n",
       "      <td>0.000000</td>\n",
       "      <td>0.000000</td>\n",
       "      <td>0.000000</td>\n",
       "      <td>...</td>\n",
       "      <td>0.000000</td>\n",
       "      <td>0.00000</td>\n",
       "      <td>1.000000</td>\n",
       "      <td>1.000000</td>\n",
       "      <td>1.000000</td>\n",
       "      <td>1.000000</td>\n",
       "      <td>1.000000</td>\n",
       "      <td>1.000000</td>\n",
       "      <td>0.000000</td>\n",
       "      <td>0.000000</td>\n",
       "    </tr>\n",
       "    <tr>\n",
       "      <th>25%</th>\n",
       "      <td>1.000000</td>\n",
       "      <td>1.000000</td>\n",
       "      <td>0.000000</td>\n",
       "      <td>0.000000</td>\n",
       "      <td>0.000000</td>\n",
       "      <td>1.000000</td>\n",
       "      <td>0.00000</td>\n",
       "      <td>0.000000</td>\n",
       "      <td>0.000000</td>\n",
       "      <td>0.000000</td>\n",
       "      <td>...</td>\n",
       "      <td>0.000000</td>\n",
       "      <td>1.00000</td>\n",
       "      <td>3.000000</td>\n",
       "      <td>1.000000</td>\n",
       "      <td>1.000000</td>\n",
       "      <td>4.000000</td>\n",
       "      <td>2.000000</td>\n",
       "      <td>1.000000</td>\n",
       "      <td>0.000000</td>\n",
       "      <td>0.000000</td>\n",
       "    </tr>\n",
       "    <tr>\n",
       "      <th>50%</th>\n",
       "      <td>2.000000</td>\n",
       "      <td>1.000000</td>\n",
       "      <td>0.000000</td>\n",
       "      <td>1.000000</td>\n",
       "      <td>0.000000</td>\n",
       "      <td>1.000000</td>\n",
       "      <td>0.00000</td>\n",
       "      <td>0.000000</td>\n",
       "      <td>1.000000</td>\n",
       "      <td>0.000000</td>\n",
       "      <td>...</td>\n",
       "      <td>0.000000</td>\n",
       "      <td>1.00000</td>\n",
       "      <td>4.000000</td>\n",
       "      <td>2.000000</td>\n",
       "      <td>2.000000</td>\n",
       "      <td>4.000000</td>\n",
       "      <td>2.000000</td>\n",
       "      <td>2.000000</td>\n",
       "      <td>1.000000</td>\n",
       "      <td>0.000000</td>\n",
       "    </tr>\n",
       "    <tr>\n",
       "      <th>75%</th>\n",
       "      <td>2.000000</td>\n",
       "      <td>2.000000</td>\n",
       "      <td>0.000000</td>\n",
       "      <td>1.000000</td>\n",
       "      <td>0.000000</td>\n",
       "      <td>1.000000</td>\n",
       "      <td>1.00000</td>\n",
       "      <td>1.000000</td>\n",
       "      <td>1.000000</td>\n",
       "      <td>0.000000</td>\n",
       "      <td>...</td>\n",
       "      <td>0.000000</td>\n",
       "      <td>1.00000</td>\n",
       "      <td>5.000000</td>\n",
       "      <td>4.000000</td>\n",
       "      <td>4.000000</td>\n",
       "      <td>5.000000</td>\n",
       "      <td>4.000000</td>\n",
       "      <td>4.000000</td>\n",
       "      <td>1.000000</td>\n",
       "      <td>1.000000</td>\n",
       "    </tr>\n",
       "    <tr>\n",
       "      <th>max</th>\n",
       "      <td>3.000000</td>\n",
       "      <td>2.000000</td>\n",
       "      <td>1.000000</td>\n",
       "      <td>1.000000</td>\n",
       "      <td>1.000000</td>\n",
       "      <td>1.000000</td>\n",
       "      <td>1.00000</td>\n",
       "      <td>1.000000</td>\n",
       "      <td>1.000000</td>\n",
       "      <td>1.000000</td>\n",
       "      <td>...</td>\n",
       "      <td>1.000000</td>\n",
       "      <td>1.00000</td>\n",
       "      <td>5.000000</td>\n",
       "      <td>5.000000</td>\n",
       "      <td>5.000000</td>\n",
       "      <td>5.000000</td>\n",
       "      <td>5.000000</td>\n",
       "      <td>5.000000</td>\n",
       "      <td>3.000000</td>\n",
       "      <td>3.000000</td>\n",
       "    </tr>\n",
       "  </tbody>\n",
       "</table>\n",
       "<p>8 rows × 23 columns</p>\n",
       "</div>"
      ],
      "text/plain": [
       "       h1n1_concern  h1n1_knowledge  behavioral_antiviral_meds  \\\n",
       "count  26615.000000    26591.000000               26636.000000   \n",
       "mean       1.618486        1.262532                   0.048844   \n",
       "std        0.910311        0.618149                   0.215545   \n",
       "min        0.000000        0.000000                   0.000000   \n",
       "25%        1.000000        1.000000                   0.000000   \n",
       "50%        2.000000        1.000000                   0.000000   \n",
       "75%        2.000000        2.000000                   0.000000   \n",
       "max        3.000000        2.000000                   1.000000   \n",
       "\n",
       "       behavioral_avoidance  behavioral_face_mask  behavioral_wash_hands  \\\n",
       "count          26499.000000          26688.000000           26665.000000   \n",
       "mean               0.725612              0.068982               0.825614   \n",
       "std                0.446214              0.253429               0.379448   \n",
       "min                0.000000              0.000000               0.000000   \n",
       "25%                0.000000              0.000000               1.000000   \n",
       "50%                1.000000              0.000000               1.000000   \n",
       "75%                1.000000              0.000000               1.000000   \n",
       "max                1.000000              1.000000               1.000000   \n",
       "\n",
       "       behavioral_large_gatherings  behavioral_outside_home  \\\n",
       "count                  26620.00000             26625.000000   \n",
       "mean                       0.35864                 0.337315   \n",
       "std                        0.47961                 0.472802   \n",
       "min                        0.00000                 0.000000   \n",
       "25%                        0.00000                 0.000000   \n",
       "50%                        0.00000                 0.000000   \n",
       "75%                        1.00000                 1.000000   \n",
       "max                        1.00000                 1.000000   \n",
       "\n",
       "       behavioral_touch_face  doctor_recc_h1n1  ...  health_worker  \\\n",
       "count           26579.000000      24547.000000  ...   25903.000000   \n",
       "mean                0.677264          0.220312  ...       0.111918   \n",
       "std                 0.467531          0.414466  ...       0.315271   \n",
       "min                 0.000000          0.000000  ...       0.000000   \n",
       "25%                 0.000000          0.000000  ...       0.000000   \n",
       "50%                 1.000000          0.000000  ...       0.000000   \n",
       "75%                 1.000000          0.000000  ...       0.000000   \n",
       "max                 1.000000          1.000000  ...       1.000000   \n",
       "\n",
       "       health_insurance  opinion_h1n1_vacc_effective  opinion_h1n1_risk  \\\n",
       "count       14433.00000                 26316.000000       26319.000000   \n",
       "mean            0.87972                     3.850623           2.342566   \n",
       "std             0.32530                     1.007436           1.285539   \n",
       "min             0.00000                     1.000000           1.000000   \n",
       "25%             1.00000                     3.000000           1.000000   \n",
       "50%             1.00000                     4.000000           2.000000   \n",
       "75%             1.00000                     5.000000           4.000000   \n",
       "max             1.00000                     5.000000           5.000000   \n",
       "\n",
       "       opinion_h1n1_sick_from_vacc  opinion_seas_vacc_effective  \\\n",
       "count                 26312.000000                 26245.000000   \n",
       "mean                      2.357670                     4.025986   \n",
       "std                       1.362766                     1.086565   \n",
       "min                       1.000000                     1.000000   \n",
       "25%                       1.000000                     4.000000   \n",
       "50%                       2.000000                     4.000000   \n",
       "75%                       4.000000                     5.000000   \n",
       "max                       5.000000                     5.000000   \n",
       "\n",
       "       opinion_seas_risk  opinion_seas_sick_from_vacc  household_adults  \\\n",
       "count       26193.000000                 26170.000000      26458.000000   \n",
       "mean            2.719162                     2.118112          0.886499   \n",
       "std             1.385055                     1.332950          0.753422   \n",
       "min             1.000000                     1.000000          0.000000   \n",
       "25%             2.000000                     1.000000          0.000000   \n",
       "50%             2.000000                     2.000000          1.000000   \n",
       "75%             4.000000                     4.000000          1.000000   \n",
       "max             5.000000                     5.000000          3.000000   \n",
       "\n",
       "       household_children  \n",
       "count        26458.000000  \n",
       "mean             0.534583  \n",
       "std              0.928173  \n",
       "min              0.000000  \n",
       "25%              0.000000  \n",
       "50%              0.000000  \n",
       "75%              1.000000  \n",
       "max              3.000000  \n",
       "\n",
       "[8 rows x 23 columns]"
      ]
     },
     "execution_count": 110,
     "metadata": {},
     "output_type": "execute_result"
    }
   ],
   "source": [
    "features_df.describe()"
   ]
  },
  {
   "cell_type": "markdown",
   "metadata": {},
   "source": [
    "The scales vary slightly differ between numerical features. The data will be scaled via the StandardScaler to fix this potential issue."
   ]
  },
  {
   "cell_type": "code",
   "execution_count": 111,
   "metadata": {},
   "outputs": [
    {
     "name": "stdout",
     "output_type": "stream",
     "text": [
      "h1n1_concern [ 1.  3.  2.  0. nan]\n",
      "h1n1_knowledge [ 0.  2.  1. nan]\n",
      "behavioral_antiviral_meds [ 0.  1. nan]\n",
      "behavioral_avoidance [ 0.  1. nan]\n",
      "behavioral_face_mask [ 0.  1. nan]\n",
      "behavioral_wash_hands [ 0.  1. nan]\n",
      "behavioral_large_gatherings [ 0.  1. nan]\n",
      "behavioral_outside_home [ 1.  0. nan]\n",
      "behavioral_touch_face [ 1.  0. nan]\n",
      "doctor_recc_h1n1 [ 0. nan  1.]\n",
      "doctor_recc_seasonal [ 0. nan  1.]\n",
      "chronic_med_condition [ 0.  1. nan]\n",
      "child_under_6_months [ 0.  1. nan]\n",
      "health_worker [ 0.  1. nan]\n",
      "health_insurance [ 1. nan  0.]\n",
      "opinion_h1n1_vacc_effective [ 3.  5.  4.  2.  1. nan]\n",
      "opinion_h1n1_risk [ 1.  4.  3.  2.  5. nan]\n",
      "opinion_h1n1_sick_from_vacc [ 2.  4.  1.  5.  3. nan]\n",
      "opinion_seas_vacc_effective [ 2.  4.  5.  3.  1. nan]\n",
      "opinion_seas_risk [ 1.  2.  4.  3.  5. nan]\n",
      "opinion_seas_sick_from_vacc [ 2.  4.  1.  5. nan  3.]\n",
      "age_group ['55 - 64 Years' '35 - 44 Years' '18 - 34 Years' '65+ Years'\n",
      " '45 - 54 Years']\n",
      "education ['< 12 Years' '12 Years' 'College Graduate' 'Some College' nan]\n",
      "race ['White' 'Black' 'Other or Multiple' 'Hispanic']\n",
      "sex ['Female' 'Male']\n",
      "income_poverty ['Below Poverty' '<= $75,000, Above Poverty' '> $75,000' nan]\n",
      "marital_status ['Not Married' 'Married' nan]\n",
      "rent_or_own ['Own' 'Rent' nan]\n",
      "employment_status ['Not in Labor Force' 'Employed' 'Unemployed' nan]\n",
      "hhs_geo_region ['oxchjgsf' 'bhuqouqj' 'qufhixun' 'lrircsnp' 'atmpeygn' 'lzgpxyit'\n",
      " 'fpwskwrf' 'mlyzmhmf' 'dqpwygqj' 'kbazzjca']\n",
      "census_msa ['Non-MSA' 'MSA, Not Principle  City' 'MSA, Principle City']\n",
      "household_adults [ 0.  2.  1.  3. nan]\n",
      "household_children [ 0.  3.  2.  1. nan]\n",
      "employment_industry [nan 'pxcmvdjn' 'rucpziij' 'wxleyezf' 'saaquncn' 'xicduogh' 'ldnlellj'\n",
      " 'wlfvacwt' 'nduyfdeo' 'fcxhlnwr' 'vjjrobsf' 'arjwrbjb' 'atmlpfrs'\n",
      " 'msuufmds' 'xqicxuve' 'phxvnwax' 'dotnnunm' 'mfikgejo' 'cfqqtusy'\n",
      " 'mcubkhph' 'haxffmxo' 'qnlwzans']\n",
      "employment_occupation [nan 'xgwztkwe' 'xtkaffoo' 'emcorrxb' 'vlluhbov' 'xqwwgdyp' 'ccgxvspp'\n",
      " 'qxajmpny' 'kldqjyjy' 'mxkfnird' 'hfxkjkmi' 'bxpfxfdn' 'ukymxvdu'\n",
      " 'cmhcxjea' 'haliazsg' 'dlvbwzss' 'xzmlyyjv' 'oijqvulv' 'rcertsgn'\n",
      " 'tfqavkke' 'hodpvpew' 'uqqtjvyb' 'pvmttkik' 'dcjcmpih']\n"
     ]
    }
   ],
   "source": [
    "#inspecting unique values in features for anomalies\n",
    "for col in features_df:\n",
    "    print(col, features_df[col].unique())"
   ]
  },
  {
   "cell_type": "markdown",
   "metadata": {},
   "source": [
    "There are no continous variables in this dataset, they are all categorical variables and there doesn't seem to be any values that will need to be altered. In order to further explore the dataset, the Features and labels Dataframes will be combined using their index's which are the respondent IDs"
   ]
  },
  {
   "cell_type": "code",
   "execution_count": 112,
   "metadata": {},
   "outputs": [
    {
     "data": {
      "text/html": [
       "<div>\n",
       "<style scoped>\n",
       "    .dataframe tbody tr th:only-of-type {\n",
       "        vertical-align: middle;\n",
       "    }\n",
       "\n",
       "    .dataframe tbody tr th {\n",
       "        vertical-align: top;\n",
       "    }\n",
       "\n",
       "    .dataframe thead th {\n",
       "        text-align: right;\n",
       "    }\n",
       "</style>\n",
       "<table border=\"1\" class=\"dataframe\">\n",
       "  <thead>\n",
       "    <tr style=\"text-align: right;\">\n",
       "      <th></th>\n",
       "      <th>h1n1_concern</th>\n",
       "      <th>h1n1_knowledge</th>\n",
       "      <th>behavioral_antiviral_meds</th>\n",
       "      <th>behavioral_avoidance</th>\n",
       "      <th>behavioral_face_mask</th>\n",
       "      <th>behavioral_wash_hands</th>\n",
       "      <th>behavioral_large_gatherings</th>\n",
       "      <th>behavioral_outside_home</th>\n",
       "      <th>behavioral_touch_face</th>\n",
       "      <th>doctor_recc_h1n1</th>\n",
       "      <th>...</th>\n",
       "      <th>marital_status</th>\n",
       "      <th>rent_or_own</th>\n",
       "      <th>employment_status</th>\n",
       "      <th>hhs_geo_region</th>\n",
       "      <th>census_msa</th>\n",
       "      <th>household_adults</th>\n",
       "      <th>household_children</th>\n",
       "      <th>employment_industry</th>\n",
       "      <th>employment_occupation</th>\n",
       "      <th>h1n1_vaccine</th>\n",
       "    </tr>\n",
       "    <tr>\n",
       "      <th>respondent_id</th>\n",
       "      <th></th>\n",
       "      <th></th>\n",
       "      <th></th>\n",
       "      <th></th>\n",
       "      <th></th>\n",
       "      <th></th>\n",
       "      <th></th>\n",
       "      <th></th>\n",
       "      <th></th>\n",
       "      <th></th>\n",
       "      <th></th>\n",
       "      <th></th>\n",
       "      <th></th>\n",
       "      <th></th>\n",
       "      <th></th>\n",
       "      <th></th>\n",
       "      <th></th>\n",
       "      <th></th>\n",
       "      <th></th>\n",
       "      <th></th>\n",
       "      <th></th>\n",
       "    </tr>\n",
       "  </thead>\n",
       "  <tbody>\n",
       "    <tr>\n",
       "      <th>0</th>\n",
       "      <td>1.0</td>\n",
       "      <td>0.0</td>\n",
       "      <td>0.0</td>\n",
       "      <td>0.0</td>\n",
       "      <td>0.0</td>\n",
       "      <td>0.0</td>\n",
       "      <td>0.0</td>\n",
       "      <td>1.0</td>\n",
       "      <td>1.0</td>\n",
       "      <td>0.0</td>\n",
       "      <td>...</td>\n",
       "      <td>Not Married</td>\n",
       "      <td>Own</td>\n",
       "      <td>Not in Labor Force</td>\n",
       "      <td>oxchjgsf</td>\n",
       "      <td>Non-MSA</td>\n",
       "      <td>0.0</td>\n",
       "      <td>0.0</td>\n",
       "      <td>NaN</td>\n",
       "      <td>NaN</td>\n",
       "      <td>0</td>\n",
       "    </tr>\n",
       "    <tr>\n",
       "      <th>1</th>\n",
       "      <td>3.0</td>\n",
       "      <td>2.0</td>\n",
       "      <td>0.0</td>\n",
       "      <td>1.0</td>\n",
       "      <td>0.0</td>\n",
       "      <td>1.0</td>\n",
       "      <td>0.0</td>\n",
       "      <td>1.0</td>\n",
       "      <td>1.0</td>\n",
       "      <td>0.0</td>\n",
       "      <td>...</td>\n",
       "      <td>Not Married</td>\n",
       "      <td>Rent</td>\n",
       "      <td>Employed</td>\n",
       "      <td>bhuqouqj</td>\n",
       "      <td>MSA, Not Principle  City</td>\n",
       "      <td>0.0</td>\n",
       "      <td>0.0</td>\n",
       "      <td>pxcmvdjn</td>\n",
       "      <td>xgwztkwe</td>\n",
       "      <td>0</td>\n",
       "    </tr>\n",
       "    <tr>\n",
       "      <th>2</th>\n",
       "      <td>1.0</td>\n",
       "      <td>1.0</td>\n",
       "      <td>0.0</td>\n",
       "      <td>1.0</td>\n",
       "      <td>0.0</td>\n",
       "      <td>0.0</td>\n",
       "      <td>0.0</td>\n",
       "      <td>0.0</td>\n",
       "      <td>0.0</td>\n",
       "      <td>NaN</td>\n",
       "      <td>...</td>\n",
       "      <td>Not Married</td>\n",
       "      <td>Own</td>\n",
       "      <td>Employed</td>\n",
       "      <td>qufhixun</td>\n",
       "      <td>MSA, Not Principle  City</td>\n",
       "      <td>2.0</td>\n",
       "      <td>0.0</td>\n",
       "      <td>rucpziij</td>\n",
       "      <td>xtkaffoo</td>\n",
       "      <td>0</td>\n",
       "    </tr>\n",
       "    <tr>\n",
       "      <th>3</th>\n",
       "      <td>1.0</td>\n",
       "      <td>1.0</td>\n",
       "      <td>0.0</td>\n",
       "      <td>1.0</td>\n",
       "      <td>0.0</td>\n",
       "      <td>1.0</td>\n",
       "      <td>1.0</td>\n",
       "      <td>0.0</td>\n",
       "      <td>0.0</td>\n",
       "      <td>0.0</td>\n",
       "      <td>...</td>\n",
       "      <td>Not Married</td>\n",
       "      <td>Rent</td>\n",
       "      <td>Not in Labor Force</td>\n",
       "      <td>lrircsnp</td>\n",
       "      <td>MSA, Principle City</td>\n",
       "      <td>0.0</td>\n",
       "      <td>0.0</td>\n",
       "      <td>NaN</td>\n",
       "      <td>NaN</td>\n",
       "      <td>0</td>\n",
       "    </tr>\n",
       "    <tr>\n",
       "      <th>4</th>\n",
       "      <td>2.0</td>\n",
       "      <td>1.0</td>\n",
       "      <td>0.0</td>\n",
       "      <td>1.0</td>\n",
       "      <td>0.0</td>\n",
       "      <td>1.0</td>\n",
       "      <td>1.0</td>\n",
       "      <td>0.0</td>\n",
       "      <td>1.0</td>\n",
       "      <td>0.0</td>\n",
       "      <td>...</td>\n",
       "      <td>Married</td>\n",
       "      <td>Own</td>\n",
       "      <td>Employed</td>\n",
       "      <td>qufhixun</td>\n",
       "      <td>MSA, Not Principle  City</td>\n",
       "      <td>1.0</td>\n",
       "      <td>0.0</td>\n",
       "      <td>wxleyezf</td>\n",
       "      <td>emcorrxb</td>\n",
       "      <td>0</td>\n",
       "    </tr>\n",
       "  </tbody>\n",
       "</table>\n",
       "<p>5 rows × 36 columns</p>\n",
       "</div>"
      ],
      "text/plain": [
       "               h1n1_concern  h1n1_knowledge  behavioral_antiviral_meds  \\\n",
       "respondent_id                                                            \n",
       "0                       1.0             0.0                        0.0   \n",
       "1                       3.0             2.0                        0.0   \n",
       "2                       1.0             1.0                        0.0   \n",
       "3                       1.0             1.0                        0.0   \n",
       "4                       2.0             1.0                        0.0   \n",
       "\n",
       "               behavioral_avoidance  behavioral_face_mask  \\\n",
       "respondent_id                                               \n",
       "0                               0.0                   0.0   \n",
       "1                               1.0                   0.0   \n",
       "2                               1.0                   0.0   \n",
       "3                               1.0                   0.0   \n",
       "4                               1.0                   0.0   \n",
       "\n",
       "               behavioral_wash_hands  behavioral_large_gatherings  \\\n",
       "respondent_id                                                       \n",
       "0                                0.0                          0.0   \n",
       "1                                1.0                          0.0   \n",
       "2                                0.0                          0.0   \n",
       "3                                1.0                          1.0   \n",
       "4                                1.0                          1.0   \n",
       "\n",
       "               behavioral_outside_home  behavioral_touch_face  \\\n",
       "respondent_id                                                   \n",
       "0                                  1.0                    1.0   \n",
       "1                                  1.0                    1.0   \n",
       "2                                  0.0                    0.0   \n",
       "3                                  0.0                    0.0   \n",
       "4                                  0.0                    1.0   \n",
       "\n",
       "               doctor_recc_h1n1  ...  marital_status  rent_or_own  \\\n",
       "respondent_id                    ...                                \n",
       "0                           0.0  ...     Not Married          Own   \n",
       "1                           0.0  ...     Not Married         Rent   \n",
       "2                           NaN  ...     Not Married          Own   \n",
       "3                           0.0  ...     Not Married         Rent   \n",
       "4                           0.0  ...         Married          Own   \n",
       "\n",
       "                employment_status  hhs_geo_region                census_msa  \\\n",
       "respondent_id                                                                 \n",
       "0              Not in Labor Force        oxchjgsf                   Non-MSA   \n",
       "1                        Employed        bhuqouqj  MSA, Not Principle  City   \n",
       "2                        Employed        qufhixun  MSA, Not Principle  City   \n",
       "3              Not in Labor Force        lrircsnp       MSA, Principle City   \n",
       "4                        Employed        qufhixun  MSA, Not Principle  City   \n",
       "\n",
       "               household_adults  household_children  employment_industry  \\\n",
       "respondent_id                                                              \n",
       "0                           0.0                 0.0                  NaN   \n",
       "1                           0.0                 0.0             pxcmvdjn   \n",
       "2                           2.0                 0.0             rucpziij   \n",
       "3                           0.0                 0.0                  NaN   \n",
       "4                           1.0                 0.0             wxleyezf   \n",
       "\n",
       "               employment_occupation  h1n1_vaccine  \n",
       "respondent_id                                       \n",
       "0                                NaN             0  \n",
       "1                           xgwztkwe             0  \n",
       "2                           xtkaffoo             0  \n",
       "3                                NaN             0  \n",
       "4                           emcorrxb             0  \n",
       "\n",
       "[5 rows x 36 columns]"
      ]
     },
     "execution_count": 112,
     "metadata": {},
     "output_type": "execute_result"
    }
   ],
   "source": [
    "#Joining features and labels dfs to create plots \n",
    "df = features_df.join(labels_df)\n",
    "df.head()"
   ]
  },
  {
   "cell_type": "markdown",
   "metadata": {},
   "source": [
    "### Feature Correlations\n",
    "\n",
    "In order to uncover some patterns within the data early, a look at the breakdown of vaccine status by each value of each feature will be examined. Features that may have a relationship will generally have skewed vaccine statuses between the feature values. Since the data is unbalanced, the approach to visualizing this used was to graph the percentage of each feature value for vaccine status."
   ]
  },
  {
   "cell_type": "code",
   "execution_count": 113,
   "metadata": {},
   "outputs": [
    {
     "data": {
      "text/html": [
       "<div>\n",
       "<style scoped>\n",
       "    .dataframe tbody tr th:only-of-type {\n",
       "        vertical-align: middle;\n",
       "    }\n",
       "\n",
       "    .dataframe tbody tr th {\n",
       "        vertical-align: top;\n",
       "    }\n",
       "\n",
       "    .dataframe thead th {\n",
       "        text-align: right;\n",
       "    }\n",
       "</style>\n",
       "<table border=\"1\" class=\"dataframe\">\n",
       "  <thead>\n",
       "    <tr style=\"text-align: right;\">\n",
       "      <th>h1n1_vaccine</th>\n",
       "      <th>0</th>\n",
       "      <th>1</th>\n",
       "    </tr>\n",
       "    <tr>\n",
       "      <th>h1n1_concern</th>\n",
       "      <th></th>\n",
       "      <th></th>\n",
       "    </tr>\n",
       "  </thead>\n",
       "  <tbody>\n",
       "    <tr>\n",
       "      <th>0.0</th>\n",
       "      <td>2849</td>\n",
       "      <td>447</td>\n",
       "    </tr>\n",
       "    <tr>\n",
       "      <th>1.0</th>\n",
       "      <td>6756</td>\n",
       "      <td>1397</td>\n",
       "    </tr>\n",
       "    <tr>\n",
       "      <th>2.0</th>\n",
       "      <td>8102</td>\n",
       "      <td>2473</td>\n",
       "    </tr>\n",
       "    <tr>\n",
       "      <th>3.0</th>\n",
       "      <td>3250</td>\n",
       "      <td>1341</td>\n",
       "    </tr>\n",
       "  </tbody>\n",
       "</table>\n",
       "</div>"
      ],
      "text/plain": [
       "h1n1_vaccine     0     1\n",
       "h1n1_concern            \n",
       "0.0           2849   447\n",
       "1.0           6756  1397\n",
       "2.0           8102  2473\n",
       "3.0           3250  1341"
      ]
     },
     "execution_count": 113,
     "metadata": {},
     "output_type": "execute_result"
    }
   ],
   "source": [
    "#Getting counts of each feature value for h1n1_concern by vaccine status\n",
    "concern_counts = (df[['h1n1_concern', 'h1n1_vaccine']]\n",
    "              .groupby(['h1n1_concern', 'h1n1_vaccine'])\n",
    "              .size()\n",
    "              .unstack('h1n1_vaccine'))\n",
    "concern_counts"
   ]
  },
  {
   "cell_type": "markdown",
   "metadata": {},
   "source": [
    "Due to the imbalanced data, it is hard to compare the raw counts of the feature values. The counts above will be converted into percentages of the total for each vaccination status in order to make them more easily compared."
   ]
  },
  {
   "cell_type": "code",
   "execution_count": 114,
   "metadata": {},
   "outputs": [
    {
     "data": {
      "text/plain": [
       "<matplotlib.legend.Legend at 0x7fe4025e3340>"
      ]
     },
     "execution_count": 114,
     "metadata": {},
     "output_type": "execute_result"
    },
    {
     "data": {
      "image/png": "[encoded data removed]",
      "text/plain": [
       "<Figure size 432x288 with 1 Axes>"
      ]
     },
     "metadata": {
      "needs_background": "light"
     },
     "output_type": "display_data"
    }
   ],
   "source": [
    "#Calculating percentages for vaccine status by each category of h1n1_concerns and graphing them\n",
    "\n",
    "#Calculating the sum of each row from the coutn df above\n",
    "concern_count_total = concern_counts.sum(axis=1)\n",
    "\n",
    "#Calculating percentage values for each combination by diving number of actual by total per row\n",
    "concern_precents = concern_counts.divide(concern_count_total, axis=0)\n",
    "\n",
    "#Graphing percents\n",
    "ax = concern_precents.plot.barh(stacked=True)\n",
    "ax.legend(title='h1n1 vax status', loc='center left', bbox_to_anchor=(1, 0.5))"
   ]
  },
  {
   "cell_type": "markdown",
   "metadata": {},
   "source": [
    "The graph above shows a skew in vaccine status by H1N1 concern, the greater values represent higher levels of concern. From this graph it can be seen that people with higher levels of concern regarding H1N1 had higher vaccine rates. \n",
    "\n",
    "This same graph will now be built out for each feature in the dataset using the same logic as above."
   ]
  },
  {
   "cell_type": "code",
   "execution_count": 115,
   "metadata": {},
   "outputs": [
    {
     "name": "stderr",
     "output_type": "stream",
     "text": [
      "/opt/anaconda3/envs/learn-env/lib/python3.8/site-packages/pandas/plotting/_matplotlib/core.py:328: RuntimeWarning: More than 20 figures have been opened. Figures created through the pyplot interface (`matplotlib.pyplot.figure`) are retained until explicitly closed and may consume too much memory. (To control this warning, see the rcParam `figure.max_open_warning`).\n",
      "  fig = self.plt.figure(figsize=self.figsize)\n"
     ]
    },
    {
     "data": {
      "image/png": "[encoded data removed]",
      "text/plain": [
       "<Figure size 432x288 with 1 Axes>"
      ]
     },
     "metadata": {
      "needs_background": "light"
     },
     "output_type": "display_data"
    },
    {
     "data": {
      "image/png": "[encoded data removed]",
      "text/plain": [
       "<Figure size 432x288 with 1 Axes>"
      ]
     },
     "metadata": {
      "needs_background": "light"
     },
     "output_type": "display_data"
    },
    {
     "data": {
      "image/png": "[encoded data removed]",
      "text/plain": [
       "<Figure size 432x288 with 1 Axes>"
      ]
     },
     "metadata": {
      "needs_background": "light"
     },
     "output_type": "display_data"
    },
    {
     "data": {
      "image/png": "[encoded data removed]",
      "text/plain": [
       "<Figure size 432x288 with 1 Axes>"
      ]
     },
     "metadata": {
      "needs_background": "light"
     },
     "output_type": "display_data"
    },
    {
     "data": {
      "image/png": "[encoded data removed]",
      "text/plain": [
       "<Figure size 432x288 with 1 Axes>"
      ]
     },
     "metadata": {
      "needs_background": "light"
     },
     "output_type": "display_data"
    },
    {
     "data": {
      "image/png": "[encoded data removed]",
      "text/plain": [
       "<Figure size 432x288 with 1 Axes>"
      ]
     },
     "metadata": {
      "needs_background": "light"
     },
     "output_type": "display_data"
    },
    {
     "data": {
      "image/png": "[encoded data removed]",
      "text/plain": [
       "<Figure size 432x288 with 1 Axes>"
      ]
     },
     "metadata": {
      "needs_background": "light"
     },
     "output_type": "display_data"
    },
    {
     "data": {
      "image/png": "[encoded data removed]",
      "text/plain": [
       "<Figure size 432x288 with 1 Axes>"
      ]
     },
     "metadata": {
      "needs_background": "light"
     },
     "output_type": "display_data"
    },
    {
     "data": {
      "image/png": "[encoded data removed]",
      "text/plain": [
       "<Figure size 432x288 with 1 Axes>"
      ]
     },
     "metadata": {
      "needs_background": "light"
     },
     "output_type": "display_data"
    },
    {
     "data": {
      "image/png": "[encoded data removed]",
      "text/plain": [
       "<Figure size 432x288 with 1 Axes>"
      ]
     },
     "metadata": {
      "needs_background": "light"
     },
     "output_type": "display_data"
    },
    {
     "data": {
      "image/png": "[encoded data removed]",
      "text/plain": [
       "<Figure size 432x288 with 1 Axes>"
      ]
     },
     "metadata": {
      "needs_background": "light"
     },
     "output_type": "display_data"
    },
    {
     "data": {
      "image/png": "[encoded data removed]",
      "text/plain": [
       "<Figure size 432x288 with 1 Axes>"
      ]
     },
     "metadata": {
      "needs_background": "light"
     },
     "output_type": "display_data"
    },
    {
     "data": {
      "image/png": "[encoded data removed]",
      "text/plain": [
       "<Figure size 432x288 with 1 Axes>"
      ]
     },
     "metadata": {
      "needs_background": "light"
     },
     "output_type": "display_data"
    },
    {
     "data": {
      "image/png": "[encoded data removed]",
      "text/plain": [
       "<Figure size 432x288 with 1 Axes>"
      ]
     },
     "metadata": {
      "needs_background": "light"
     },
     "output_type": "display_data"
    },
    {
     "data": {
      "image/png": "[encoded data removed]",
      "text/plain": [
       "<Figure size 432x288 with 1 Axes>"
      ]
     },
     "metadata": {
      "needs_background": "light"
     },
     "output_type": "display_data"
    },
    {
     "data": {
      "image/png": "[encoded data removed]",
      "text/plain": [
       "<Figure size 432x288 with 1 Axes>"
      ]
     },
     "metadata": {
      "needs_background": "light"
     },
     "output_type": "display_data"
    },
    {
     "data": {
      "image/png": "[encoded data removed]",
      "text/plain": [
       "<Figure size 432x288 with 1 Axes>"
      ]
     },
     "metadata": {
      "needs_background": "light"
     },
     "output_type": "display_data"
    },
    {
     "data": {
      "image/png": "[encoded data removed]",
      "text/plain": [
       "<Figure size 432x288 with 1 Axes>"
      ]
     },
     "metadata": {
      "needs_background": "light"
     },
     "output_type": "display_data"
    },
    {
     "data": {
      "image/png": "[encoded data removed]",
      "text/plain": [
       "<Figure size 432x288 with 1 Axes>"
      ]
     },
     "metadata": {
      "needs_background": "light"
     },
     "output_type": "display_data"
    },
    {
     "data": {
      "image/png": "[encoded data removed]",
      "text/plain": [
       "<Figure size 432x288 with 1 Axes>"
      ]
     },
     "metadata": {
      "needs_background": "light"
     },
     "output_type": "display_data"
    },
    {
     "data": {
      "image/png": "[encoded data removed]",
      "text/plain": [
       "<Figure size 432x288 with 1 Axes>"
      ]
     },
     "metadata": {
      "needs_background": "light"
     },
     "output_type": "display_data"
    },
    {
     "data": {
      "image/png": "[encoded data removed]",
      "text/plain": [
       "<Figure size 432x288 with 1 Axes>"
      ]
     },
     "metadata": {
      "needs_background": "light"
     },
     "output_type": "display_data"
    },
    {
     "data": {
      "image/png": "[encoded data removed]",
      "text/plain": [
       "<Figure size 432x288 with 1 Axes>"
      ]
     },
     "metadata": {
      "needs_background": "light"
     },
     "output_type": "display_data"
    },
    {
     "data": {
      "image/png": "[encoded data removed]",
      "text/plain": [
       "<Figure size 432x288 with 1 Axes>"
      ]
     },
     "metadata": {
      "needs_background": "light"
     },
     "output_type": "display_data"
    },
    {
     "data": {
      "image/png": "[encoded data removed]",
      "text/plain": [
       "<Figure size 432x288 with 1 Axes>"
      ]
     },
     "metadata": {
      "needs_background": "light"
     },
     "output_type": "display_data"
    },
    {
     "data": {
      "image/png": "[encoded data removed]",
      "text/plain": [
       "<Figure size 432x288 with 1 Axes>"
      ]
     },
     "metadata": {
      "needs_background": "light"
     },
     "output_type": "display_data"
    },
    {
     "data": {
      "image/png": "[encoded data removed]",
      "text/plain": [
       "<Figure size 432x288 with 1 Axes>"
      ]
     },
     "metadata": {
      "needs_background": "light"
     },
     "output_type": "display_data"
    },
    {
     "data": {
      "image/png": "[encoded data removed]",
      "text/plain": [
       "<Figure size 432x288 with 1 Axes>"
      ]
     },
     "metadata": {
      "needs_background": "light"
     },
     "output_type": "display_data"
    },
    {
     "data": {
      "image/png": "[encoded data removed]",
      "text/plain": [
       "<Figure size 432x288 with 1 Axes>"
      ]
     },
     "metadata": {
      "needs_background": "light"
     },
     "output_type": "display_data"
    },
    {
     "data": {
      "image/png": "[encoded data removed]",
      "text/plain": [
       "<Figure size 432x288 with 1 Axes>"
      ]
     },
     "metadata": {
      "needs_background": "light"
     },
     "output_type": "display_data"
    },
    {
     "data": {
      "image/png": "[encoded data removed]",
      "text/plain": [
       "<Figure size 432x288 with 1 Axes>"
      ]
     },
     "metadata": {
      "needs_background": "light"
     },
     "output_type": "display_data"
    },
    {
     "data": {
      "image/png": "[encoded data removed]",
      "text/plain": [
       "<Figure size 432x288 with 1 Axes>"
      ]
     },
     "metadata": {
      "needs_background": "light"
     },
     "output_type": "display_data"
    },
    {
     "data": {
      "image/png": "[encoded data removed]",
      "text/plain": [
       "<Figure size 432x288 with 1 Axes>"
      ]
     },
     "metadata": {
      "needs_background": "light"
     },
     "output_type": "display_data"
    },
    {
     "data": {
      "image/png": "[encoded data removed]",
      "text/plain": [
       "<Figure size 432x288 with 1 Axes>"
      ]
     },
     "metadata": {
      "needs_background": "light"
     },
     "output_type": "display_data"
    },
    {
     "data": {
      "image/png": "[encoded data removed]",
      "text/plain": [
       "<Figure size 432x288 with 1 Axes>"
      ]
     },
     "metadata": {
      "needs_background": "light"
     },
     "output_type": "display_data"
    }
   ],
   "source": [
    "#Creating percentage plots for all of the features\n",
    "plotting_cols = df.drop(columns='h1n1_vaccine').columns\n",
    "\n",
    "for col in plotting_cols:\n",
    "    counts = (df[[col, 'h1n1_vaccine']]\n",
    "              .groupby([col, 'h1n1_vaccine'])\n",
    "              .size()\n",
    "              .unstack('h1n1_vaccine'))\n",
    "    counts_total = counts.sum(axis=1)\n",
    "    percents = counts.divide(counts_total, axis=0)\n",
    "    \n",
    "    #Graphing percents\n",
    "    ax = percents.plot.barh(stacked=True)\n",
    "    ax.set_title(col)\n",
    "    ax.legend(title='h1n1 vax status', loc='center left', bbox_to_anchor=(1, 0.5))\n",
    "    "
   ]
  },
  {
   "cell_type": "markdown",
   "metadata": {},
   "source": [
    "Based on the vaccination rates visualized above, it seems that the majority of features have some sort of realtionship with H1N1 vaccine status.\n",
    "\n",
    "The features that seem to have the greatest relationships are:\n",
    "\n",
    "* h1n1_concern\n",
    "* h1n1_knowledge\n",
    "* doctor_recc_h1n1\n",
    "* doctor_recc_seasonal\n",
    "* health_worker\n",
    "* opinion_h1n1_vacc_effective\n",
    "* opinion_h1n1_risk\n",
    "* opinion_seas_vacc_effective\n",
    "* opinion_seas_risk\n",
    "* health_insurance\n",
    "* employment_industry\n",
    "* employmeny_occupation\n",
    "\n",
    "The features that **do not** seem to have a realtionship are:\n",
    "\n",
    "* behavioral_large_gatherings\n",
    "* behavioral_outside_home\n",
    "* sex\n",
    "* education\n",
    "* race\n",
    "* census_msa\n",
    "* household_children\n",
    "\n",
    "This provides a basic idea of how the features in this dataset may effect vaccine acceptance"
   ]
  },
  {
   "cell_type": "markdown",
   "metadata": {},
   "source": [
    "# Preproccessing Data \n",
    "\n",
    "Before the predictive classification model can be built out, the training dataset must be prepared. The preprocessing steps compeleted below are the removal of feature columns with very large amount of data missing and the One-Hot encoding of non-numeric categorical variables.\n"
   ]
  },
  {
   "cell_type": "markdown",
   "metadata": {},
   "source": [
    "### Identifying and Dealing With Missing Values\n",
    " The percentage of missing data in each column will be calculated."
   ]
  },
  {
   "cell_type": "code",
   "execution_count": 118,
   "metadata": {},
   "outputs": [
    {
     "data": {
      "text/plain": [
       "h1n1_concern                    0.344479\n",
       "h1n1_knowledge                  0.434343\n",
       "behavioral_antiviral_meds       0.265848\n",
       "behavioral_avoidance            0.778822\n",
       "behavioral_face_mask            0.071142\n",
       "behavioral_wash_hands           0.157262\n",
       "behavioral_large_gatherings     0.325757\n",
       "behavioral_outside_home         0.307036\n",
       "behavioral_touch_face           0.479275\n",
       "doctor_recc_h1n1                8.087767\n",
       "doctor_recc_seasonal            8.087767\n",
       "chronic_med_condition           3.635751\n",
       "child_under_6_months            3.070356\n",
       "health_worker                   3.010447\n",
       "health_insurance               45.957989\n",
       "opinion_h1n1_vacc_effective     1.464036\n",
       "opinion_h1n1_risk               1.452803\n",
       "opinion_h1n1_sick_from_vacc     1.479013\n",
       "opinion_seas_vacc_effective     1.729884\n",
       "opinion_seas_risk               1.924589\n",
       "opinion_seas_sick_from_vacc     2.010709\n",
       "age_group                       0.000000\n",
       "education                       5.268282\n",
       "race                            0.000000\n",
       "sex                             0.000000\n",
       "income_poverty                 16.561201\n",
       "marital_status                  5.272026\n",
       "rent_or_own                     7.645936\n",
       "employment_status               5.477965\n",
       "hhs_geo_region                  0.000000\n",
       "census_msa                      0.000000\n",
       "household_adults                0.932340\n",
       "household_children              0.932340\n",
       "employment_industry            49.912008\n",
       "employment_occupation          50.436215\n",
       "h1n1_vaccine                    0.000000\n",
       "dtype: float64"
      ]
     },
     "execution_count": 118,
     "metadata": {},
     "output_type": "execute_result"
    }
   ],
   "source": [
    "#Percent of each column this is missing\n",
    "df.isna().sum() / len(features_df) * 100\n"
   ]
  },
  {
   "cell_type": "markdown",
   "metadata": {},
   "source": [
    "About half of the data is missing in the 'health_insurance', 'employment_industry', 'employment_occupation' columns so these will be dropped, the remaining missing data will be filled in via an Imputer."
   ]
  },
  {
   "cell_type": "code",
   "execution_count": 119,
   "metadata": {},
   "outputs": [
    {
     "data": {
      "text/plain": [
       "(26707, 33)"
      ]
     },
     "execution_count": 119,
     "metadata": {},
     "output_type": "execute_result"
    }
   ],
   "source": [
    "#Dropping colunmns with about half of values missing\n",
    "df.drop(columns=['health_insurance', 'employment_industry', 'employment_occupation'], axis=1, inplace=True)\n",
    "df.shape"
   ]
  },
  {
   "cell_type": "markdown",
   "metadata": {},
   "source": [
    "### One Hot Encoding non-numeric categorical variables\n",
    "\n",
    "Non-Numeric categorical variable must be one-hot encoded in order to be used in classification models."
   ]
  },
  {
   "cell_type": "code",
   "execution_count": 120,
   "metadata": {},
   "outputs": [
    {
     "data": {
      "text/html": [
       "<div>\n",
       "<style scoped>\n",
       "    .dataframe tbody tr th:only-of-type {\n",
       "        vertical-align: middle;\n",
       "    }\n",
       "\n",
       "    .dataframe tbody tr th {\n",
       "        vertical-align: top;\n",
       "    }\n",
       "\n",
       "    .dataframe thead th {\n",
       "        text-align: right;\n",
       "    }\n",
       "</style>\n",
       "<table border=\"1\" class=\"dataframe\">\n",
       "  <thead>\n",
       "    <tr style=\"text-align: right;\">\n",
       "      <th></th>\n",
       "      <th>h1n1_concern</th>\n",
       "      <th>h1n1_knowledge</th>\n",
       "      <th>behavioral_antiviral_meds</th>\n",
       "      <th>behavioral_avoidance</th>\n",
       "      <th>behavioral_face_mask</th>\n",
       "      <th>behavioral_wash_hands</th>\n",
       "      <th>behavioral_large_gatherings</th>\n",
       "      <th>behavioral_outside_home</th>\n",
       "      <th>behavioral_touch_face</th>\n",
       "      <th>doctor_recc_h1n1</th>\n",
       "      <th>...</th>\n",
       "      <th>hhs_geo_region_fpwskwrf</th>\n",
       "      <th>hhs_geo_region_kbazzjca</th>\n",
       "      <th>hhs_geo_region_lrircsnp</th>\n",
       "      <th>hhs_geo_region_lzgpxyit</th>\n",
       "      <th>hhs_geo_region_mlyzmhmf</th>\n",
       "      <th>hhs_geo_region_oxchjgsf</th>\n",
       "      <th>hhs_geo_region_qufhixun</th>\n",
       "      <th>census_msa_MSA, Not Principle  City</th>\n",
       "      <th>census_msa_MSA, Principle City</th>\n",
       "      <th>census_msa_Non-MSA</th>\n",
       "    </tr>\n",
       "    <tr>\n",
       "      <th>respondent_id</th>\n",
       "      <th></th>\n",
       "      <th></th>\n",
       "      <th></th>\n",
       "      <th></th>\n",
       "      <th></th>\n",
       "      <th></th>\n",
       "      <th></th>\n",
       "      <th></th>\n",
       "      <th></th>\n",
       "      <th></th>\n",
       "      <th></th>\n",
       "      <th></th>\n",
       "      <th></th>\n",
       "      <th></th>\n",
       "      <th></th>\n",
       "      <th></th>\n",
       "      <th></th>\n",
       "      <th></th>\n",
       "      <th></th>\n",
       "      <th></th>\n",
       "      <th></th>\n",
       "    </tr>\n",
       "  </thead>\n",
       "  <tbody>\n",
       "    <tr>\n",
       "      <th>0</th>\n",
       "      <td>1.0</td>\n",
       "      <td>0.0</td>\n",
       "      <td>0.0</td>\n",
       "      <td>0.0</td>\n",
       "      <td>0.0</td>\n",
       "      <td>0.0</td>\n",
       "      <td>0.0</td>\n",
       "      <td>1.0</td>\n",
       "      <td>1.0</td>\n",
       "      <td>0.0</td>\n",
       "      <td>...</td>\n",
       "      <td>0</td>\n",
       "      <td>0</td>\n",
       "      <td>0</td>\n",
       "      <td>0</td>\n",
       "      <td>0</td>\n",
       "      <td>1</td>\n",
       "      <td>0</td>\n",
       "      <td>0</td>\n",
       "      <td>0</td>\n",
       "      <td>1</td>\n",
       "    </tr>\n",
       "    <tr>\n",
       "      <th>1</th>\n",
       "      <td>3.0</td>\n",
       "      <td>2.0</td>\n",
       "      <td>0.0</td>\n",
       "      <td>1.0</td>\n",
       "      <td>0.0</td>\n",
       "      <td>1.0</td>\n",
       "      <td>0.0</td>\n",
       "      <td>1.0</td>\n",
       "      <td>1.0</td>\n",
       "      <td>0.0</td>\n",
       "      <td>...</td>\n",
       "      <td>0</td>\n",
       "      <td>0</td>\n",
       "      <td>0</td>\n",
       "      <td>0</td>\n",
       "      <td>0</td>\n",
       "      <td>0</td>\n",
       "      <td>0</td>\n",
       "      <td>1</td>\n",
       "      <td>0</td>\n",
       "      <td>0</td>\n",
       "    </tr>\n",
       "    <tr>\n",
       "      <th>2</th>\n",
       "      <td>1.0</td>\n",
       "      <td>1.0</td>\n",
       "      <td>0.0</td>\n",
       "      <td>1.0</td>\n",
       "      <td>0.0</td>\n",
       "      <td>0.0</td>\n",
       "      <td>0.0</td>\n",
       "      <td>0.0</td>\n",
       "      <td>0.0</td>\n",
       "      <td>NaN</td>\n",
       "      <td>...</td>\n",
       "      <td>0</td>\n",
       "      <td>0</td>\n",
       "      <td>0</td>\n",
       "      <td>0</td>\n",
       "      <td>0</td>\n",
       "      <td>0</td>\n",
       "      <td>1</td>\n",
       "      <td>1</td>\n",
       "      <td>0</td>\n",
       "      <td>0</td>\n",
       "    </tr>\n",
       "    <tr>\n",
       "      <th>3</th>\n",
       "      <td>1.0</td>\n",
       "      <td>1.0</td>\n",
       "      <td>0.0</td>\n",
       "      <td>1.0</td>\n",
       "      <td>0.0</td>\n",
       "      <td>1.0</td>\n",
       "      <td>1.0</td>\n",
       "      <td>0.0</td>\n",
       "      <td>0.0</td>\n",
       "      <td>0.0</td>\n",
       "      <td>...</td>\n",
       "      <td>0</td>\n",
       "      <td>0</td>\n",
       "      <td>1</td>\n",
       "      <td>0</td>\n",
       "      <td>0</td>\n",
       "      <td>0</td>\n",
       "      <td>0</td>\n",
       "      <td>0</td>\n",
       "      <td>1</td>\n",
       "      <td>0</td>\n",
       "    </tr>\n",
       "    <tr>\n",
       "      <th>4</th>\n",
       "      <td>2.0</td>\n",
       "      <td>1.0</td>\n",
       "      <td>0.0</td>\n",
       "      <td>1.0</td>\n",
       "      <td>0.0</td>\n",
       "      <td>1.0</td>\n",
       "      <td>1.0</td>\n",
       "      <td>0.0</td>\n",
       "      <td>1.0</td>\n",
       "      <td>0.0</td>\n",
       "      <td>...</td>\n",
       "      <td>0</td>\n",
       "      <td>0</td>\n",
       "      <td>0</td>\n",
       "      <td>0</td>\n",
       "      <td>0</td>\n",
       "      <td>0</td>\n",
       "      <td>1</td>\n",
       "      <td>1</td>\n",
       "      <td>0</td>\n",
       "      <td>0</td>\n",
       "    </tr>\n",
       "    <tr>\n",
       "      <th>...</th>\n",
       "      <td>...</td>\n",
       "      <td>...</td>\n",
       "      <td>...</td>\n",
       "      <td>...</td>\n",
       "      <td>...</td>\n",
       "      <td>...</td>\n",
       "      <td>...</td>\n",
       "      <td>...</td>\n",
       "      <td>...</td>\n",
       "      <td>...</td>\n",
       "      <td>...</td>\n",
       "      <td>...</td>\n",
       "      <td>...</td>\n",
       "      <td>...</td>\n",
       "      <td>...</td>\n",
       "      <td>...</td>\n",
       "      <td>...</td>\n",
       "      <td>...</td>\n",
       "      <td>...</td>\n",
       "      <td>...</td>\n",
       "      <td>...</td>\n",
       "    </tr>\n",
       "    <tr>\n",
       "      <th>26702</th>\n",
       "      <td>2.0</td>\n",
       "      <td>0.0</td>\n",
       "      <td>0.0</td>\n",
       "      <td>1.0</td>\n",
       "      <td>0.0</td>\n",
       "      <td>0.0</td>\n",
       "      <td>0.0</td>\n",
       "      <td>1.0</td>\n",
       "      <td>0.0</td>\n",
       "      <td>0.0</td>\n",
       "      <td>...</td>\n",
       "      <td>0</td>\n",
       "      <td>0</td>\n",
       "      <td>0</td>\n",
       "      <td>0</td>\n",
       "      <td>0</td>\n",
       "      <td>0</td>\n",
       "      <td>1</td>\n",
       "      <td>0</td>\n",
       "      <td>0</td>\n",
       "      <td>1</td>\n",
       "    </tr>\n",
       "    <tr>\n",
       "      <th>26703</th>\n",
       "      <td>1.0</td>\n",
       "      <td>2.0</td>\n",
       "      <td>0.0</td>\n",
       "      <td>1.0</td>\n",
       "      <td>0.0</td>\n",
       "      <td>1.0</td>\n",
       "      <td>0.0</td>\n",
       "      <td>0.0</td>\n",
       "      <td>0.0</td>\n",
       "      <td>1.0</td>\n",
       "      <td>...</td>\n",
       "      <td>0</td>\n",
       "      <td>0</td>\n",
       "      <td>0</td>\n",
       "      <td>1</td>\n",
       "      <td>0</td>\n",
       "      <td>0</td>\n",
       "      <td>0</td>\n",
       "      <td>0</td>\n",
       "      <td>1</td>\n",
       "      <td>0</td>\n",
       "    </tr>\n",
       "    <tr>\n",
       "      <th>26704</th>\n",
       "      <td>2.0</td>\n",
       "      <td>2.0</td>\n",
       "      <td>0.0</td>\n",
       "      <td>1.0</td>\n",
       "      <td>1.0</td>\n",
       "      <td>1.0</td>\n",
       "      <td>1.0</td>\n",
       "      <td>0.0</td>\n",
       "      <td>1.0</td>\n",
       "      <td>0.0</td>\n",
       "      <td>...</td>\n",
       "      <td>0</td>\n",
       "      <td>0</td>\n",
       "      <td>0</td>\n",
       "      <td>1</td>\n",
       "      <td>0</td>\n",
       "      <td>0</td>\n",
       "      <td>0</td>\n",
       "      <td>1</td>\n",
       "      <td>0</td>\n",
       "      <td>0</td>\n",
       "    </tr>\n",
       "    <tr>\n",
       "      <th>26705</th>\n",
       "      <td>1.0</td>\n",
       "      <td>1.0</td>\n",
       "      <td>0.0</td>\n",
       "      <td>0.0</td>\n",
       "      <td>0.0</td>\n",
       "      <td>0.0</td>\n",
       "      <td>0.0</td>\n",
       "      <td>0.0</td>\n",
       "      <td>NaN</td>\n",
       "      <td>0.0</td>\n",
       "      <td>...</td>\n",
       "      <td>0</td>\n",
       "      <td>0</td>\n",
       "      <td>1</td>\n",
       "      <td>0</td>\n",
       "      <td>0</td>\n",
       "      <td>0</td>\n",
       "      <td>0</td>\n",
       "      <td>0</td>\n",
       "      <td>0</td>\n",
       "      <td>1</td>\n",
       "    </tr>\n",
       "    <tr>\n",
       "      <th>26706</th>\n",
       "      <td>0.0</td>\n",
       "      <td>0.0</td>\n",
       "      <td>0.0</td>\n",
       "      <td>1.0</td>\n",
       "      <td>0.0</td>\n",
       "      <td>0.0</td>\n",
       "      <td>0.0</td>\n",
       "      <td>0.0</td>\n",
       "      <td>0.0</td>\n",
       "      <td>0.0</td>\n",
       "      <td>...</td>\n",
       "      <td>0</td>\n",
       "      <td>0</td>\n",
       "      <td>0</td>\n",
       "      <td>0</td>\n",
       "      <td>1</td>\n",
       "      <td>0</td>\n",
       "      <td>0</td>\n",
       "      <td>0</td>\n",
       "      <td>1</td>\n",
       "      <td>0</td>\n",
       "    </tr>\n",
       "  </tbody>\n",
       "</table>\n",
       "<p>26707 rows × 61 columns</p>\n",
       "</div>"
      ],
      "text/plain": [
       "               h1n1_concern  h1n1_knowledge  behavioral_antiviral_meds  \\\n",
       "respondent_id                                                            \n",
       "0                       1.0             0.0                        0.0   \n",
       "1                       3.0             2.0                        0.0   \n",
       "2                       1.0             1.0                        0.0   \n",
       "3                       1.0             1.0                        0.0   \n",
       "4                       2.0             1.0                        0.0   \n",
       "...                     ...             ...                        ...   \n",
       "26702                   2.0             0.0                        0.0   \n",
       "26703                   1.0             2.0                        0.0   \n",
       "26704                   2.0             2.0                        0.0   \n",
       "26705                   1.0             1.0                        0.0   \n",
       "26706                   0.0             0.0                        0.0   \n",
       "\n",
       "               behavioral_avoidance  behavioral_face_mask  \\\n",
       "respondent_id                                               \n",
       "0                               0.0                   0.0   \n",
       "1                               1.0                   0.0   \n",
       "2                               1.0                   0.0   \n",
       "3                               1.0                   0.0   \n",
       "4                               1.0                   0.0   \n",
       "...                             ...                   ...   \n",
       "26702                           1.0                   0.0   \n",
       "26703                           1.0                   0.0   \n",
       "26704                           1.0                   1.0   \n",
       "26705                           0.0                   0.0   \n",
       "26706                           1.0                   0.0   \n",
       "\n",
       "               behavioral_wash_hands  behavioral_large_gatherings  \\\n",
       "respondent_id                                                       \n",
       "0                                0.0                          0.0   \n",
       "1                                1.0                          0.0   \n",
       "2                                0.0                          0.0   \n",
       "3                                1.0                          1.0   \n",
       "4                                1.0                          1.0   \n",
       "...                              ...                          ...   \n",
       "26702                            0.0                          0.0   \n",
       "26703                            1.0                          0.0   \n",
       "26704                            1.0                          1.0   \n",
       "26705                            0.0                          0.0   \n",
       "26706                            0.0                          0.0   \n",
       "\n",
       "               behavioral_outside_home  behavioral_touch_face  \\\n",
       "respondent_id                                                   \n",
       "0                                  1.0                    1.0   \n",
       "1                                  1.0                    1.0   \n",
       "2                                  0.0                    0.0   \n",
       "3                                  0.0                    0.0   \n",
       "4                                  0.0                    1.0   \n",
       "...                                ...                    ...   \n",
       "26702                              1.0                    0.0   \n",
       "26703                              0.0                    0.0   \n",
       "26704                              0.0                    1.0   \n",
       "26705                              0.0                    NaN   \n",
       "26706                              0.0                    0.0   \n",
       "\n",
       "               doctor_recc_h1n1  ...  hhs_geo_region_fpwskwrf  \\\n",
       "respondent_id                    ...                            \n",
       "0                           0.0  ...                        0   \n",
       "1                           0.0  ...                        0   \n",
       "2                           NaN  ...                        0   \n",
       "3                           0.0  ...                        0   \n",
       "4                           0.0  ...                        0   \n",
       "...                         ...  ...                      ...   \n",
       "26702                       0.0  ...                        0   \n",
       "26703                       1.0  ...                        0   \n",
       "26704                       0.0  ...                        0   \n",
       "26705                       0.0  ...                        0   \n",
       "26706                       0.0  ...                        0   \n",
       "\n",
       "               hhs_geo_region_kbazzjca  hhs_geo_region_lrircsnp  \\\n",
       "respondent_id                                                     \n",
       "0                                    0                        0   \n",
       "1                                    0                        0   \n",
       "2                                    0                        0   \n",
       "3                                    0                        1   \n",
       "4                                    0                        0   \n",
       "...                                ...                      ...   \n",
       "26702                                0                        0   \n",
       "26703                                0                        0   \n",
       "26704                                0                        0   \n",
       "26705                                0                        1   \n",
       "26706                                0                        0   \n",
       "\n",
       "               hhs_geo_region_lzgpxyit  hhs_geo_region_mlyzmhmf  \\\n",
       "respondent_id                                                     \n",
       "0                                    0                        0   \n",
       "1                                    0                        0   \n",
       "2                                    0                        0   \n",
       "3                                    0                        0   \n",
       "4                                    0                        0   \n",
       "...                                ...                      ...   \n",
       "26702                                0                        0   \n",
       "26703                                1                        0   \n",
       "26704                                1                        0   \n",
       "26705                                0                        0   \n",
       "26706                                0                        1   \n",
       "\n",
       "               hhs_geo_region_oxchjgsf  hhs_geo_region_qufhixun  \\\n",
       "respondent_id                                                     \n",
       "0                                    1                        0   \n",
       "1                                    0                        0   \n",
       "2                                    0                        1   \n",
       "3                                    0                        0   \n",
       "4                                    0                        1   \n",
       "...                                ...                      ...   \n",
       "26702                                0                        1   \n",
       "26703                                0                        0   \n",
       "26704                                0                        0   \n",
       "26705                                0                        0   \n",
       "26706                                0                        0   \n",
       "\n",
       "               census_msa_MSA, Not Principle  City  \\\n",
       "respondent_id                                        \n",
       "0                                                0   \n",
       "1                                                1   \n",
       "2                                                1   \n",
       "3                                                0   \n",
       "4                                                1   \n",
       "...                                            ...   \n",
       "26702                                            0   \n",
       "26703                                            0   \n",
       "26704                                            1   \n",
       "26705                                            0   \n",
       "26706                                            0   \n",
       "\n",
       "               census_msa_MSA, Principle City  census_msa_Non-MSA  \n",
       "respondent_id                                                      \n",
       "0                                           0                   1  \n",
       "1                                           0                   0  \n",
       "2                                           0                   0  \n",
       "3                                           1                   0  \n",
       "4                                           0                   0  \n",
       "...                                       ...                 ...  \n",
       "26702                                       0                   1  \n",
       "26703                                       1                   0  \n",
       "26704                                       0                   0  \n",
       "26705                                       0                   1  \n",
       "26706                                       1                   0  \n",
       "\n",
       "[26707 rows x 61 columns]"
      ]
     },
     "execution_count": 120,
     "metadata": {},
     "output_type": "execute_result"
    }
   ],
   "source": [
    "#Creating dummy columns for non-numeric categorical variables\n",
    "df_ohe = pd.get_dummies(df)\n",
    "df_ohe"
   ]
  },
  {
   "cell_type": "code",
   "execution_count": 169,
   "metadata": {},
   "outputs": [],
   "source": [
    "#Removing '[', ']', '<' from column names for XGBoost, as these characters cannot be in feature names\n",
    "\n",
    "#Creating list of characters to remove from feature names\n",
    "regex = re.compile(r\"\\[|\\]|<\", re.IGNORECASE)\n",
    "\n",
    "#Removing characters from feature names\n",
    "df_ohe.columns = [regex.sub(\"_\", col) if any(\\\n",
    "                 x in str(col) for x in set(('[', ']', '<')))\\\n",
    "                 else col for col in df_ohe.columns.values]\n"
   ]
  },
  {
   "cell_type": "markdown",
   "metadata": {},
   "source": [
    "## Splitting the Data into a Train and Test set for Modeling\n"
   ]
  },
  {
   "cell_type": "code",
   "execution_count": 122,
   "metadata": {},
   "outputs": [],
   "source": [
    "#defining model Target (y) and features (X)\n",
    "y = df_ohe['h1n1_vaccine']\n",
    "X = df_ohe.drop(columns='h1n1_vaccine', axis=1)\n",
    "\n",
    "# Split into training and test sets\n",
    "X_train, X_test, y_train, y_test = train_test_split(X,y, test_size=.25, random_state=42)"
   ]
  },
  {
   "cell_type": "markdown",
   "metadata": {},
   "source": [
    "## Standardizing data Scale\n",
    "\n",
    "Since some of the features are binary and others have varying scales, the data will be scaled prior to training the model\n"
   ]
  },
  {
   "cell_type": "code",
   "execution_count": 170,
   "metadata": {},
   "outputs": [
    {
     "data": {
      "text/html": [
       "<div>\n",
       "<style scoped>\n",
       "    .dataframe tbody tr th:only-of-type {\n",
       "        vertical-align: middle;\n",
       "    }\n",
       "\n",
       "    .dataframe tbody tr th {\n",
       "        vertical-align: top;\n",
       "    }\n",
       "\n",
       "    .dataframe thead th {\n",
       "        text-align: right;\n",
       "    }\n",
       "</style>\n",
       "<table border=\"1\" class=\"dataframe\">\n",
       "  <thead>\n",
       "    <tr style=\"text-align: right;\">\n",
       "      <th></th>\n",
       "      <th>h1n1_concern</th>\n",
       "      <th>h1n1_knowledge</th>\n",
       "      <th>behavioral_antiviral_meds</th>\n",
       "      <th>behavioral_avoidance</th>\n",
       "      <th>behavioral_face_mask</th>\n",
       "      <th>behavioral_wash_hands</th>\n",
       "      <th>behavioral_large_gatherings</th>\n",
       "      <th>behavioral_outside_home</th>\n",
       "      <th>behavioral_touch_face</th>\n",
       "      <th>doctor_recc_h1n1</th>\n",
       "      <th>...</th>\n",
       "      <th>hhs_geo_region_fpwskwrf</th>\n",
       "      <th>hhs_geo_region_kbazzjca</th>\n",
       "      <th>hhs_geo_region_lrircsnp</th>\n",
       "      <th>hhs_geo_region_lzgpxyit</th>\n",
       "      <th>hhs_geo_region_mlyzmhmf</th>\n",
       "      <th>hhs_geo_region_oxchjgsf</th>\n",
       "      <th>hhs_geo_region_qufhixun</th>\n",
       "      <th>census_msa_MSA, Not Principle  City</th>\n",
       "      <th>census_msa_MSA, Principle City</th>\n",
       "      <th>census_msa_Non-MSA</th>\n",
       "    </tr>\n",
       "  </thead>\n",
       "  <tbody>\n",
       "    <tr>\n",
       "      <th>0</th>\n",
       "      <td>-0.680915</td>\n",
       "      <td>-0.429587</td>\n",
       "      <td>-0.22678</td>\n",
       "      <td>-1.620431</td>\n",
       "      <td>-0.274128</td>\n",
       "      <td>-2.159635</td>\n",
       "      <td>-0.746693</td>\n",
       "      <td>-0.714422</td>\n",
       "      <td>-1.438997</td>\n",
       "      <td>NaN</td>\n",
       "      <td>...</td>\n",
       "      <td>-0.372966</td>\n",
       "      <td>-0.348929</td>\n",
       "      <td>-0.291933</td>\n",
       "      <td>-0.435073</td>\n",
       "      <td>-0.300607</td>\n",
       "      <td>2.868870</td>\n",
       "      <td>-0.363877</td>\n",
       "      <td>-0.876462</td>\n",
       "      <td>-0.645018</td>\n",
       "      <td>1.637057</td>\n",
       "    </tr>\n",
       "    <tr>\n",
       "      <th>1</th>\n",
       "      <td>0.418851</td>\n",
       "      <td>-0.429587</td>\n",
       "      <td>-0.22678</td>\n",
       "      <td>0.617120</td>\n",
       "      <td>-0.274128</td>\n",
       "      <td>0.463041</td>\n",
       "      <td>-0.746693</td>\n",
       "      <td>-0.714422</td>\n",
       "      <td>-1.438997</td>\n",
       "      <td>-0.533616</td>\n",
       "      <td>...</td>\n",
       "      <td>-0.372966</td>\n",
       "      <td>-0.348929</td>\n",
       "      <td>-0.291933</td>\n",
       "      <td>2.298464</td>\n",
       "      <td>-0.300607</td>\n",
       "      <td>-0.348569</td>\n",
       "      <td>-0.363877</td>\n",
       "      <td>1.140951</td>\n",
       "      <td>-0.645018</td>\n",
       "      <td>-0.610852</td>\n",
       "    </tr>\n",
       "    <tr>\n",
       "      <th>2</th>\n",
       "      <td>-1.780681</td>\n",
       "      <td>-2.049716</td>\n",
       "      <td>-0.22678</td>\n",
       "      <td>-1.620431</td>\n",
       "      <td>-0.274128</td>\n",
       "      <td>-2.159635</td>\n",
       "      <td>-0.746693</td>\n",
       "      <td>-0.714422</td>\n",
       "      <td>-1.438997</td>\n",
       "      <td>-0.533616</td>\n",
       "      <td>...</td>\n",
       "      <td>-0.372966</td>\n",
       "      <td>2.865908</td>\n",
       "      <td>-0.291933</td>\n",
       "      <td>-0.435073</td>\n",
       "      <td>-0.300607</td>\n",
       "      <td>-0.348569</td>\n",
       "      <td>-0.363877</td>\n",
       "      <td>-0.876462</td>\n",
       "      <td>1.550345</td>\n",
       "      <td>-0.610852</td>\n",
       "    </tr>\n",
       "    <tr>\n",
       "      <th>3</th>\n",
       "      <td>-0.680915</td>\n",
       "      <td>-0.429587</td>\n",
       "      <td>-0.22678</td>\n",
       "      <td>-1.620431</td>\n",
       "      <td>-0.274128</td>\n",
       "      <td>-2.159635</td>\n",
       "      <td>-0.746693</td>\n",
       "      <td>-0.714422</td>\n",
       "      <td>-1.438997</td>\n",
       "      <td>-0.533616</td>\n",
       "      <td>...</td>\n",
       "      <td>-0.372966</td>\n",
       "      <td>-0.348929</td>\n",
       "      <td>-0.291933</td>\n",
       "      <td>-0.435073</td>\n",
       "      <td>3.326600</td>\n",
       "      <td>-0.348569</td>\n",
       "      <td>-0.363877</td>\n",
       "      <td>1.140951</td>\n",
       "      <td>-0.645018</td>\n",
       "      <td>-0.610852</td>\n",
       "    </tr>\n",
       "    <tr>\n",
       "      <th>4</th>\n",
       "      <td>0.418851</td>\n",
       "      <td>-0.429587</td>\n",
       "      <td>4.40956</td>\n",
       "      <td>0.617120</td>\n",
       "      <td>-0.274128</td>\n",
       "      <td>0.463041</td>\n",
       "      <td>1.339239</td>\n",
       "      <td>1.399733</td>\n",
       "      <td>0.694928</td>\n",
       "      <td>1.874005</td>\n",
       "      <td>...</td>\n",
       "      <td>-0.372966</td>\n",
       "      <td>-0.348929</td>\n",
       "      <td>-0.291933</td>\n",
       "      <td>-0.435073</td>\n",
       "      <td>-0.300607</td>\n",
       "      <td>-0.348569</td>\n",
       "      <td>-0.363877</td>\n",
       "      <td>1.140951</td>\n",
       "      <td>-0.645018</td>\n",
       "      <td>-0.610852</td>\n",
       "    </tr>\n",
       "  </tbody>\n",
       "</table>\n",
       "<p>5 rows × 60 columns</p>\n",
       "</div>"
      ],
      "text/plain": [
       "   h1n1_concern  h1n1_knowledge  behavioral_antiviral_meds  \\\n",
       "0     -0.680915       -0.429587                   -0.22678   \n",
       "1      0.418851       -0.429587                   -0.22678   \n",
       "2     -1.780681       -2.049716                   -0.22678   \n",
       "3     -0.680915       -0.429587                   -0.22678   \n",
       "4      0.418851       -0.429587                    4.40956   \n",
       "\n",
       "   behavioral_avoidance  behavioral_face_mask  behavioral_wash_hands  \\\n",
       "0             -1.620431             -0.274128              -2.159635   \n",
       "1              0.617120             -0.274128               0.463041   \n",
       "2             -1.620431             -0.274128              -2.159635   \n",
       "3             -1.620431             -0.274128              -2.159635   \n",
       "4              0.617120             -0.274128               0.463041   \n",
       "\n",
       "   behavioral_large_gatherings  behavioral_outside_home  \\\n",
       "0                    -0.746693                -0.714422   \n",
       "1                    -0.746693                -0.714422   \n",
       "2                    -0.746693                -0.714422   \n",
       "3                    -0.746693                -0.714422   \n",
       "4                     1.339239                 1.399733   \n",
       "\n",
       "   behavioral_touch_face  doctor_recc_h1n1  ...  hhs_geo_region_fpwskwrf  \\\n",
       "0              -1.438997               NaN  ...                -0.372966   \n",
       "1              -1.438997         -0.533616  ...                -0.372966   \n",
       "2              -1.438997         -0.533616  ...                -0.372966   \n",
       "3              -1.438997         -0.533616  ...                -0.372966   \n",
       "4               0.694928          1.874005  ...                -0.372966   \n",
       "\n",
       "   hhs_geo_region_kbazzjca  hhs_geo_region_lrircsnp  hhs_geo_region_lzgpxyit  \\\n",
       "0                -0.348929                -0.291933                -0.435073   \n",
       "1                -0.348929                -0.291933                 2.298464   \n",
       "2                 2.865908                -0.291933                -0.435073   \n",
       "3                -0.348929                -0.291933                -0.435073   \n",
       "4                -0.348929                -0.291933                -0.435073   \n",
       "\n",
       "   hhs_geo_region_mlyzmhmf  hhs_geo_region_oxchjgsf  hhs_geo_region_qufhixun  \\\n",
       "0                -0.300607                 2.868870                -0.363877   \n",
       "1                -0.300607                -0.348569                -0.363877   \n",
       "2                -0.300607                -0.348569                -0.363877   \n",
       "3                 3.326600                -0.348569                -0.363877   \n",
       "4                -0.300607                -0.348569                -0.363877   \n",
       "\n",
       "   census_msa_MSA, Not Principle  City  census_msa_MSA, Principle City  \\\n",
       "0                            -0.876462                       -0.645018   \n",
       "1                             1.140951                       -0.645018   \n",
       "2                            -0.876462                        1.550345   \n",
       "3                             1.140951                       -0.645018   \n",
       "4                             1.140951                       -0.645018   \n",
       "\n",
       "   census_msa_Non-MSA  \n",
       "0            1.637057  \n",
       "1           -0.610852  \n",
       "2           -0.610852  \n",
       "3           -0.610852  \n",
       "4           -0.610852  \n",
       "\n",
       "[5 rows x 60 columns]"
      ]
     },
     "execution_count": 170,
     "metadata": {},
     "output_type": "execute_result"
    }
   ],
   "source": [
    "# Instantiate StandardScaler\n",
    "scaler = StandardScaler()\n",
    "\n",
    "# Fit and transform the training and test sets\n",
    "scaled_train = scaler.fit_transform(X_train)\n",
    "scaled_test = scaler.transform(X_test)\n",
    "\n",
    "# Convert into a DataFrame\n",
    "scaled_df_train = pd.DataFrame(scaled_train, columns=X_train.columns)\n",
    "scaled_df_train.head()"
   ]
  },
  {
   "cell_type": "markdown",
   "metadata": {},
   "source": [
    "## Imputing Missing Data \n",
    "\n",
    "There are still a number of missing values within the data, these will be removed via imputing with the most frequest value"
   ]
  },
  {
   "cell_type": "code",
   "execution_count": 141,
   "metadata": {},
   "outputs": [
    {
     "name": "stdout",
     "output_type": "stream",
     "text": [
      "The Total Number of NaNs in the Train set is : 0\n",
      "The Total Number of NaNs in the Test set is : 0\n"
     ]
    }
   ],
   "source": [
    "#filling in remaining NAs\n",
    "imputer = SimpleImputer(strategy='most_frequent')\n",
    "\n",
    "# Fit and transform the training and test sets\n",
    "imputed_train = imputer.fit_transform(scaled_train)\n",
    "imputed_test = imputer.transform(scaled_test)\n",
    "\n",
    "# Convert into a DataFrame\n",
    "imputed_df_train = pd.DataFrame(imputed_train, columns=X_train.columns)\n",
    "imputed_df_test = pd.DataFrame(imputed_test, columns=X_test.columns)\n",
    "\n",
    "#total number of NAs in whole dataset\n",
    "print('The Total Number of NaNs in the Train set is :', imputed_df_train.isna().sum().sum())\n",
    "print('The Total Number of NaNs in the Test set is :', imputed_df_test.isna().sum().sum())"
   ]
  },
  {
   "cell_type": "markdown",
   "metadata": {},
   "source": [
    "## Balancing the Data via SMOTE"
   ]
  },
  {
   "cell_type": "code",
   "execution_count": 142,
   "metadata": {},
   "outputs": [
    {
     "name": "stdout",
     "output_type": "stream",
     "text": [
      "Original Class Distribution\n",
      "0    15773\n",
      "1     4257\n",
      "Name: h1n1_vaccine, dtype: int64\n",
      "\n",
      "\n",
      "Balanced Class Distribution\n",
      "1    15773\n",
      "0    15773\n",
      "Name: h1n1_vaccine, dtype: int64\n"
     ]
    }
   ],
   "source": [
    "# Previous original class distribution\n",
    "print('Original Class Distribution')\n",
    "print(y_train.value_counts())\n",
    "\n",
    "# Fit SMOTE to training data\n",
    "X_train_resampled, y_train_resampled = SMOTE().fit_resample(imputed_train,y_train)\n",
    "\n",
    "# Preview synthetic sample class distribution\n",
    "print('\\n')\n",
    "print('Balanced Class Distribution')\n",
    "print(pd.Series(y_train_resampled).value_counts()) "
   ]
  },
  {
   "cell_type": "markdown",
   "metadata": {},
   "source": [
    "Now that the scales are standardized across the features, all NaN values have been imputed and the classes have been balanced via SMOTE the data is ready to be put into various classification models, starting with a baseline single tree Decision Tree Classificiation model."
   ]
  },
  {
   "cell_type": "markdown",
   "metadata": {},
   "source": [
    "## Training a baseline Decision Tree Classifier"
   ]
  },
  {
   "cell_type": "code",
   "execution_count": 228,
   "metadata": {},
   "outputs": [
    {
     "name": "stdout",
     "output_type": "stream",
     "text": [
      "The Accuracy of the Model on the Training set it: 100.0\n",
      "The Accuracy of the Model on the Testing set it: 75.64774599370975\n"
     ]
    }
   ],
   "source": [
    "# Instantiate and fit a DecisionTreeClassifier\n",
    "\n",
    "dtc = DecisionTreeClassifier(random_state=42)\n",
    "dtc.fit(X_train_resampled, y_train_resampled)\n",
    "\n",
    "#Using Model to form Predictions for test set\n",
    "dtc_y_preds = dtc.predict(imputed_df_test)\n",
    "\n",
    "# Train Accuracy Score\n",
    "print('The Accuracy of the Model on the Training set it:', dtc.score(X_train_resampled, y_train_resampled)*100)\n",
    "\n",
    "# Test Accuracy Score\n",
    "print('The Accuracy of the Model on the Testing set it:', dtc.score(imputed_df_test, y_test)*100)\n"
   ]
  },
  {
   "cell_type": "markdown",
   "metadata": {},
   "source": [
    "This baseline single decision tree classification model had an accuracy score of 75.6% on the test set and a score of 100% on the training set, which means our model is very overfit to the training data. This is a nice starting point, from here a Random Forest model will be generated and then pipelines will be built out for the various models that will be tested."
   ]
  },
  {
   "cell_type": "markdown",
   "metadata": {},
   "source": [
    "## Training a Baseline Random Forest Model\n"
   ]
  },
  {
   "cell_type": "code",
   "execution_count": 230,
   "metadata": {},
   "outputs": [
    {
     "name": "stdout",
     "output_type": "stream",
     "text": [
      "The Accuracy of the Model on the Training set it: 100.0\n",
      "The Accuracy of the Model on the Testing set it: 83.75018720982477\n"
     ]
    }
   ],
   "source": [
    "# Instantiate and fit a RandomForestClassifier\n",
    "forest_clf = RandomForestClassifier(random_state=42)\n",
    "forest_clf.fit(X_train_resampled, y_train_resampled)\n",
    "\n",
    "# Training accuracy score\n",
    "print('The Accuracy of the Model on the Training set it:', forest_clf.score(X_train_resampled, y_train_resampled)*100)\n",
    "\n",
    "# Test accuracy score\n",
    "print('The Accuracy of the Model on the Testing set it:', forest_clf.score(imputed_df_test, y_test)*100)"
   ]
  },
  {
   "cell_type": "markdown",
   "metadata": {},
   "source": [
    "The baseline predictive random forest model is already an improvement from the single tree classifier and is fairly accurate with a testing score of about 84%, but the training set is at 100% meaning our model is still highly overfit to the training set.\n",
    "\n",
    "# Building Model Pipelines\n",
    "Now that a baseline model has been built out for the Random Forest Classifier, Pipelines will be utilized in order to simplify the model creation process.\n",
    "\n",
    "### Random Forest Pipeline\n"
   ]
  },
  {
   "cell_type": "code",
   "execution_count": 149,
   "metadata": {},
   "outputs": [
    {
     "name": "stdout",
     "output_type": "stream",
     "text": [
      "Training score: 100.0\n",
      "Test score: 83.70525685187958\n"
     ]
    }
   ],
   "source": [
    "#Building a basic Random Forest Pipeline \n",
    "pipeline_rf1 = Pipeline([('ss', StandardScaler()),\n",
    "                         ('imp', SimpleImputer(strategy='most_frequent')),\n",
    "                         ('smote', SMOTE()),\n",
    "                         ('RF', RandomForestClassifier(random_state=42))])\n",
    "#fit pipeline to data\n",
    "pipeline_rf1.fit(X_train, y_train)\n",
    "\n",
    "#Printing train and test scores\n",
    "print('Training score:', pipeline_rf1.score(X_train, y_train)*100)\n",
    "print('Test score:', pipeline_rf1.score(X_test, y_test)*100)\n",
    "\n"
   ]
  },
  {
   "cell_type": "markdown",
   "metadata": {},
   "source": [
    "This Pipeline mimics the baseline RandomForest model and is still pretty good to start but is clearly overfit as the training score was perfect while the test group was significantly worse."
   ]
  },
  {
   "cell_type": "markdown",
   "metadata": {},
   "source": [
    "### Random Forest gridsearch 1\n",
    "In order to find the best hyperparameters for the Random Forest model, a gridsearch of parameters will be utalized to try out all the available combinations."
   ]
  },
  {
   "cell_type": "code",
   "execution_count": 151,
   "metadata": {},
   "outputs": [
    {
     "name": "stdout",
     "output_type": "stream",
     "text": [
      "Fitting 3 folds for each of 48 candidates, totalling 144 fits\n"
     ]
    },
    {
     "name": "stderr",
     "output_type": "stream",
     "text": [
      "[Parallel(n_jobs=-1)]: Using backend LokyBackend with 8 concurrent workers.\n",
      "[Parallel(n_jobs=-1)]: Done  25 tasks      | elapsed:   20.3s\n",
      "[Parallel(n_jobs=-1)]: Done 144 out of 144 | elapsed:  2.0min finished\n"
     ]
    },
    {
     "name": "stdout",
     "output_type": "stream",
     "text": [
      "Mean Training Score: 92.03%\n",
      "Mean Test Score: 83.80%\n",
      "Best Parameter Combination Found During Grid Search:\n"
     ]
    },
    {
     "data": {
      "text/plain": [
       "{'RF__max_depth': 15, 'RF__min_samples_leaf': 1, 'RF__min_samples_split': 5}"
      ]
     },
     "execution_count": 151,
     "metadata": {},
     "output_type": "execute_result"
    }
   ],
   "source": [
    "# Define the grid for GridSearchCV\n",
    "grid_rf1 = [{'RF__max_depth': [4, 8, 10, 15], \n",
    "         'RF__min_samples_split': [2, 5, 10], \n",
    "         'RF__min_samples_leaf': [1, 3, 5, 7]}]\n",
    "\n",
    "# Define a grid search\n",
    "gridsearch_rf1 = GridSearchCV(pipeline_rf1,\n",
    "                              param_grid=grid_rf1,\n",
    "                              scoring='accuracy',\n",
    "                              verbose=2,\n",
    "                              n_jobs=-1,\n",
    "                              cv=3,\n",
    "                              return_train_score=True)\n",
    "\n",
    "# Fit the training data\n",
    "gridsearch_rf1.fit(X_train, y_train)\n",
    "\n",
    "\n",
    "#Print training and test scores as well as best hyperparameter settings\n",
    "print(f\"Training Score: {gridsearch_rf1.score(X_train, y_train) :.2%}\")\n",
    "print(f\"Test Score: {gridsearch_rf1.score(X_test, y_test) :.2%}\")\n",
    "print(\"Best Parameter Combination Found During Grid Search:\")\n",
    "gridsearch_rf1.best_params_"
   ]
  },
  {
   "cell_type": "markdown",
   "metadata": {},
   "source": [
    "This model performs 0.1% better, on the test set than the baseline but still has room for improvement, we also see the training . A Randomized Grid Search will be used to look at a larger range of hyperparameters while limiting processing time.\n",
    "\n",
    "### Random Forest Randomized Gridsearch \n",
    "\n"
   ]
  },
  {
   "cell_type": "code",
   "execution_count": 62,
   "metadata": {},
   "outputs": [
    {
     "name": "stdout",
     "output_type": "stream",
     "text": [
      "Fitting 3 folds for each of 100 candidates, totalling 300 fits\n"
     ]
    },
    {
     "name": "stderr",
     "output_type": "stream",
     "text": [
      "[Parallel(n_jobs=-1)]: Using backend LokyBackend with 8 concurrent workers.\n",
      "[Parallel(n_jobs=-1)]: Done  25 tasks      | elapsed:  4.1min\n",
      "[Parallel(n_jobs=-1)]: Done 146 tasks      | elapsed: 25.2min\n",
      "[Parallel(n_jobs=-1)]: Done 300 out of 300 | elapsed: 49.6min finished\n"
     ]
    },
    {
     "data": {
      "text/plain": [
       "RandomizedSearchCV(cv=3,\n",
       "                   estimator=Pipeline(steps=[('ss', StandardScaler()),\n",
       "                                             ('imp',\n",
       "                                              SimpleImputer(strategy='most_frequent')),\n",
       "                                             ('smote', SMOTE()),\n",
       "                                             ('RF',\n",
       "                                              RandomForestClassifier(random_state=42))]),\n",
       "                   n_iter=100, n_jobs=-1,\n",
       "                   param_distributions={'RF__bootstrap': [True, False],\n",
       "                                        'RF__max_depth': [10, 20, 30, 40, 50,\n",
       "                                                          60, 70, 80, 90, 100,\n",
       "                                                          110],\n",
       "                                        'RF__max_features': ['auto', 'sqrt'],\n",
       "                                        'RF__min_samples_leaf': [1, 2, 4, 5],\n",
       "                                        'RF__min_samples_split': [2, 5, 10],\n",
       "                                        'RF__n_estimators': [200, 400, 600, 800,\n",
       "                                                             1000, 1200, 1400,\n",
       "                                                             1600, 1800,\n",
       "                                                             2000]},\n",
       "                   random_state=42, return_train_score=True, verbose=2)"
      ]
     },
     "execution_count": 62,
     "metadata": {},
     "output_type": "execute_result"
    }
   ],
   "source": [
    "from sklearn.model_selection import RandomizedSearchCV\n",
    "\n",
    "#Defining Gridseach Hyperparameter\n",
    "\n",
    "# Number of trees in random forest\n",
    "n_estimators = [int(x) for x in np.linspace(start = 200, stop = 2000, num = 10)]\n",
    "# Number of features to consider at every split\n",
    "max_features = ['auto', 'sqrt']\n",
    "# Maximum number of levels in tree\n",
    "max_depth = [int(x) for x in np.linspace(10, 110, num = 11)]\n",
    "# Minimum number of samples required to split a node\n",
    "min_samples_split = [2, 5, 10]\n",
    "# Minimum number of samples required at each leaf node\n",
    "min_samples_leaf = [1, 2, 4, 5]\n",
    "# Method of selecting samples for training each tree\n",
    "bootstrap = [True, False]\n",
    "# Create the random grid\n",
    "random_grid = {'RF__n_estimators': n_estimators,\n",
    "               'RF__max_features': max_features,\n",
    "               'RF__max_depth': max_depth,\n",
    "               'RF__min_samples_split': min_samples_split,\n",
    "               'RF__min_samples_leaf': min_samples_leaf,\n",
    "               'RF__bootstrap': bootstrap}\n",
    "\n",
    "# Use the random grid to search for best hyperparameters\n",
    "# First create the base model to tune\n",
    "rf = RandomForestClassifier()\n",
    "# Random search of parameters, using 3 fold cross validation, \n",
    "# search across 100 different combinations, and use all available cores\n",
    "rf_random = RandomizedSearchCV(pipeline_rf1, \n",
    "                               param_distributions = random_grid, \n",
    "                               n_iter = 100, \n",
    "                               cv = 3, \n",
    "                               verbose=2, \n",
    "                               random_state=42, \n",
    "                               n_jobs = -1, \n",
    "                               return_train_score=True)\n",
    "# Fit the random search model\n",
    "rf_random.fit(X_train, y_train)\n",
    "\n"
   ]
  },
  {
   "cell_type": "code",
   "execution_count": 63,
   "metadata": {},
   "outputs": [
    {
     "name": "stdout",
     "output_type": "stream",
     "text": [
      "Mean Training Score: 92.46%\n",
      "Mean Test Score: 83.86%\n",
      "Best Parameter Combination Found During Grid Search:\n"
     ]
    },
    {
     "data": {
      "text/plain": [
       "{'RF__n_estimators': 400,\n",
       " 'RF__min_samples_split': 5,\n",
       " 'RF__min_samples_leaf': 5,\n",
       " 'RF__max_features': 'auto',\n",
       " 'RF__max_depth': 80,\n",
       " 'RF__bootstrap': False}"
      ]
     },
     "execution_count": 63,
     "metadata": {},
     "output_type": "execute_result"
    }
   ],
   "source": [
    "#Training score\n",
    "gridsearch_rf3_training_score = rf_random.score(X_train, y_train)\n",
    "\n",
    "# Test score\n",
    "gridsearch_rf3_testing_score = rf_random.score(X_test, y_test)\n",
    "\n",
    "print(f\"Mean Training Score: {gridsearch_rf3_training_score :.2%}\")\n",
    "print(f\"Mean Test Score: {gridsearch_rf3_testing_score :.2%}\")\n",
    "print(\"Best Parameter Combination Found During Grid Search:\")\n",
    "rf_random.best_params_\n"
   ]
  },
  {
   "cell_type": "markdown",
   "metadata": {},
   "source": [
    "This Randomized gridsearch was able to find a combination of hyperparameters to slightly improve the Random Forest model. These model hyperparametersd will now be hard coded into the model to create a finalized random forest model that will later be compared with other modeling techniques that will be tested.\n",
    "\n",
    "### Creating Finalized Random Forest Pipeline using Best Hyperparameters from Gridsearch"
   ]
  },
  {
   "cell_type": "code",
   "execution_count": 57,
   "metadata": {},
   "outputs": [
    {
     "name": "stdout",
     "output_type": "stream",
     "text": [
      "Training score: 92.39141288067898\n",
      "Testing score: 83.95986221356897\n",
      "Random Forest train ROC AUC score:0.8424%\n",
      "Random Forest test ROC AUC score:0.6987%\n"
     ]
    }
   ],
   "source": [
    "pipeline_rf_final = Pipeline([('ss', StandardScaler()),\n",
    "                       ('imp', SimpleImputer(strategy='most_frequent')),\n",
    "                        ('smote', SMOTE()),\n",
    "                       ('RF', RandomForestClassifier(n_estimators= 400,\n",
    "                                                     min_samples_split=5,\n",
    "                                                     max_depth=80,\n",
    "                                                     min_samples_leaf=5,\n",
    "                                                     max_features='auto',\n",
    "                                                     bootstrap=False,\n",
    "                                                     random_state=42))])\n",
    "\n",
    "pipeline_rf_final.fit(X_train, y_train)\n",
    "\n",
    "training_score_rf_final = pipeline_rf_final.score(X_train, y_train) * 100\n",
    "testing_score_rf_final = pipeline_rf_final.score(X_test, y_test) *100\n",
    "print('Training score:', training_score_rf_final)\n",
    "print('Testing score:', testing_score_rf_final)\n",
    "\n",
    "\n",
    "rf_y_train_preds = pipeline_rf_final.predict(X_train)\n",
    "rf_y_test_preds = pipeline_rf_final.predict(X_test)\n",
    "print('Random Forest train ROC AUC score:{:.4}%'.format(roc_auc_score(y_train, rf_y_train_preds)))\n",
    "print('Random Forest test ROC AUC score:{:.4}%'.format(roc_auc_score(y_test, rf_y_test_preds)))\n",
    "\n",
    "      "
   ]
  },
  {
   "cell_type": "markdown",
   "metadata": {},
   "source": [
    "## KNearestNeighbor Pipeline\n",
    "\n",
    "In order to assure that the best model is built for the current dataset, a KNearestneighbor's model will also be trained and then compared to the previously built model."
   ]
  },
  {
   "cell_type": "code",
   "execution_count": 68,
   "metadata": {},
   "outputs": [
    {
     "name": "stdout",
     "output_type": "stream",
     "text": [
      "Training score: 77.4588117823265\n",
      "Test Score: 61.88407967650142\n"
     ]
    }
   ],
   "source": [
    "pipeline_knn1 = Pipeline([('ss', StandardScaler()),\n",
    "                       ('imp', SimpleImputer(strategy='most_frequent')),\n",
    "                        ('smote', SMOTE()),\n",
    "                       ('knn', KNeighborsClassifier())])\n",
    "\n",
    "pipeline_knn1.fit(X_train, y_train)\n",
    "\n",
    "print('Training score:', pipeline_knn1.score(X_train, y_train) * 100)\n",
    "print('Test Score:', pipeline_knn1.score(X_test, y_test) * 100)"
   ]
  },
  {
   "cell_type": "markdown",
   "metadata": {},
   "source": [
    "The baseline KNearestNeighbor (KNN) model has much poorer scores than the baseline RandomForest Model, a\n",
    "gridsearch will be completed for the KNN model in order to find hyperparameters that will improve the performance of the model"
   ]
  },
  {
   "cell_type": "markdown",
   "metadata": {},
   "source": [
    "## KNearestNeighbor Gridsearch"
   ]
  },
  {
   "cell_type": "code",
   "execution_count": 69,
   "metadata": {},
   "outputs": [
    {
     "name": "stdout",
     "output_type": "stream",
     "text": [
      "Fitting 3 folds for each of 36 candidates, totalling 108 fits\n"
     ]
    },
    {
     "name": "stderr",
     "output_type": "stream",
     "text": [
      "[Parallel(n_jobs=-1)]: Using backend LokyBackend with 8 concurrent workers.\n",
      "[Parallel(n_jobs=-1)]: Done  25 tasks      | elapsed:  7.0min\n",
      "[Parallel(n_jobs=-1)]: Done 108 out of 108 | elapsed: 21.7min finished\n"
     ]
    },
    {
     "name": "stdout",
     "output_type": "stream",
     "text": [
      "Training score: 82.84573140289567\n",
      "Testing score: 75.61779242174629\n",
      "Best Parameter Combination Found During Grid Search:\n"
     ]
    },
    {
     "data": {
      "text/plain": [
       "{'knn__metric': 'manhattan', 'knn__n_neighbors': 15, 'knn__weights': 'uniform'}"
      ]
     },
     "execution_count": 69,
     "metadata": {},
     "output_type": "execute_result"
    }
   ],
   "source": [
    "grid_knn1 = {'knn__n_neighbors' : [5,7,9,11,13,15],\n",
    "               'knn__weights' : ['uniform','distance'],\n",
    "               'knn__metric' : ['minkowski','euclidean','manhattan']}\n",
    "\n",
    "gs_knn1 = GridSearchCV(pipeline_knn1,\n",
    "                       grid_knn1, \n",
    "                       verbose = 2, \n",
    "                       cv=3, \n",
    "                       n_jobs = -1, \n",
    "                       return_train_score=True)\n",
    "\n",
    "gs_knn1.fit(X_train, y_train)\n",
    "\n",
    "print('Training score:', gs_knn1.score(X_train, y_train) * 100)\n",
    "print('Testing score:', gs_knn1.score(X_test, y_test) * 100)\n",
    "print(\"Best Parameter Combination Found During Grid Search:\")\n",
    "gs_knn1.best_params_"
   ]
  },
  {
   "cell_type": "markdown",
   "metadata": {},
   "source": [
    "The GridSearch created a significantly better performing KNN model but this model still performs considerably worse than the Finalized Random Forest Model"
   ]
  },
  {
   "cell_type": "code",
   "execution_count": 231,
   "metadata": {},
   "outputs": [
    {
     "name": "stdout",
     "output_type": "stream",
     "text": [
      "Training Accuracy score: 82.8307538691962\n",
      "Test Accuracy Score: 75.58783884978284\n"
     ]
    }
   ],
   "source": [
    "pipeline_knn2 = Pipeline([('ss', StandardScaler()),\n",
    "                       ('imp', SimpleImputer(strategy='most_frequent')),\n",
    "                        ('smote', SMOTE()),\n",
    "                       ('knn', KNeighborsClassifier(metric= 'manhattan',\n",
    "                                                   n_neighbors = 15,\n",
    "                                                   weights='uniform'))])\n",
    "pipeline_knn2.fit(X_train, y_train)\n",
    "\n",
    "print('Training Accuracy score:', pipeline_knn2.score(X_train, y_train) * 100)\n",
    "print('Test Accuracy Score:', pipeline_knn2.score(X_test, y_test) * 100)"
   ]
  },
  {
   "cell_type": "markdown",
   "metadata": {},
   "source": [
    "\n",
    "## XGBoost Pipeline\n",
    "\n",
    "A baseline XGBoost model pipeline will be put together, from here a Gridsearch of hyperparameters of the XGBoost classifier will be used to find the optimal hyperparameters for this model\n"
   ]
  },
  {
   "cell_type": "code",
   "execution_count": 176,
   "metadata": {},
   "outputs": [
    {
     "name": "stdout",
     "output_type": "stream",
     "text": [
      "Training Score: 90.80379430853719\n",
      "Testing Score: 82.98637112475663\n",
      "Training Accuracy: 90.8%\n",
      "Validation accuracy: 82.99%\n"
     ]
    }
   ],
   "source": [
    "pipeline_xgb1 = Pipeline([('ss', StandardScaler()),\n",
    "                       ('imp', SimpleImputer(strategy='most_frequent')),\n",
    "                        ('smote', SMOTE()),\n",
    "                       ('xgb', XGBClassifier())])\n",
    "\n",
    "pipeline_xgb1.fit(X_train, y_train)\n",
    "\n",
    "# Predict on training and test sets\n",
    "xgb1_training_preds = pipeline_xgb1.predict(X_train)\n",
    "xgb1_test_preds = pipeline_xgb1.predict(X_test)\n",
    "\n",
    "# Accuracy of training and test sets\n",
    "training_accuracy = accuracy_score(y_train, xgb1_training_preds)\n",
    "test_accuracy = accuracy_score(y_test, xgb1_test_preds)\n",
    "\n",
    "print('Training Score:', pipeline_xgb1.score(X_train, y_train) * 100)\n",
    "print('Testing Score:', pipeline_xgb1.score(X_test, y_test) * 100)\n",
    "\n",
    "\n",
    "print('Training Accuracy: {:.4}%'.format(training_accuracy * 100))\n",
    "print('Validation accuracy: {:.4}%'.format(test_accuracy * 100))"
   ]
  },
  {
   "cell_type": "markdown",
   "metadata": {},
   "source": [
    "The baseline XGBoost model is fairly good with a Testing score only slightly worse than the finalized Random Forest Model. A gridsearch of hyperparameters will be used to tweek this model.\n",
    "\n",
    "### XGBoost Pipeline gridsearch"
   ]
  },
  {
   "cell_type": "code",
   "execution_count": 71,
   "metadata": {},
   "outputs": [
    {
     "name": "stdout",
     "output_type": "stream",
     "text": [
      "Fitting 3 folds for each of 270 candidates, totalling 810 fits\n"
     ]
    },
    {
     "name": "stderr",
     "output_type": "stream",
     "text": [
      "[Parallel(n_jobs=-1)]: Using backend LokyBackend with 8 concurrent workers.\n",
      "[Parallel(n_jobs=-1)]: Done  34 tasks      | elapsed:   34.1s\n",
      "[Parallel(n_jobs=-1)]: Done 184 tasks      | elapsed:  3.2min\n",
      "[Parallel(n_jobs=-1)]: Done 434 tasks      | elapsed:  8.4min\n",
      "[Parallel(n_jobs=-1)]: Done 784 tasks      | elapsed: 15.7min\n",
      "[Parallel(n_jobs=-1)]: Done 810 out of 810 | elapsed: 16.3min finished\n"
     ]
    },
    {
     "name": "stdout",
     "output_type": "stream",
     "text": [
      "[18:07:29] WARNING: /Users/runner/miniforge3/conda-bld/xgboost_1598185652448/work/src/learner.cc:516: \n",
      "Parameters: { weights } might not be used.\n",
      "\n",
      "  This may not be accurate due to some parameters are only used in language bindings but\n",
      "  passed down to XGBoost core.  Or some parameters are not used but slip through this\n",
      "  verification. Please open an issue if you find above cases.\n",
      "\n",
      "\n",
      "Grid Search found the following optimal parameters: \n",
      "xgb__learning_rate: 0.1\n",
      "xgb__max_depth: 5\n",
      "xgb__min_child_weight: 4\n",
      "xgb__n_estimators: 100\n",
      "xgb__scale_pos_weight: 1\n",
      "xgb__subsample: 0.7\n",
      "xgb__weights: 50\n",
      "\n",
      "Training Accuracy: 85.09%\n",
      "Validation accuracy: 84.02%\n"
     ]
    }
   ],
   "source": [
    "xgb_grid = {\n",
    "    'xgb__learning_rate': [0.05 ,0.1, 0.2],\n",
    "    'xgb__max_depth': [3,4,5],\n",
    "    'xgb__min_child_weight': [2, 3 ,4],\n",
    "    'xgb__subsample': [ 0.7, 0.8],\n",
    "    'xgb__n_estimators': [100],\n",
    "    'xgb__scale_pos_weight' : [1],\n",
    "    'xgb__weights' : [1, 25, 50, 75, 100]\n",
    "\n",
    "}\n",
    "\n",
    "xgb_grid = GridSearchCV(pipeline_xgb1,\n",
    "                        xgb_grid,\n",
    "                        scoring='accuracy',\n",
    "                        cv=3, n_jobs=-1,\n",
    "                        verbose = 1,\n",
    "                        return_train_score=True)\n",
    "\n",
    "\n",
    "xgb_grid.fit(X_train, y_train)\n",
    "\n",
    "best_parameters = xgb_grid.best_params_\n",
    "\n",
    "print('Grid Search found the following optimal parameters: ')\n",
    "for param_name in sorted(best_parameters.keys()):\n",
    "    print('%s: %r' % (param_name, best_parameters[param_name]))\n",
    "\n",
    "training_preds = xgb_grid.predict(X_train)\n",
    "test_preds = xgb_grid.predict(X_test)\n",
    "training_accuracy = accuracy_score(y_train, training_preds)\n",
    "test_accuracy = accuracy_score(y_test, test_preds)\n",
    "\n",
    "print('')\n",
    "print('Training Accuracy: {:.4}%'.format(training_accuracy * 100))\n",
    "print('Validation accuracy: {:.4}%'.format(test_accuracy * 100))"
   ]
  },
  {
   "cell_type": "markdown",
   "metadata": {},
   "source": [
    "The model created from this gridsearch preformed about 1% better on the test group and is no longer very overfit as the training accuracy was fairly close to the testing score. These hyperparameters will be hardcoded into the pipeline."
   ]
  },
  {
   "cell_type": "code",
   "execution_count": 179,
   "metadata": {},
   "outputs": [
    {
     "name": "stdout",
     "output_type": "stream",
     "text": [
      "[18:26:02] WARNING: /Users/runner/miniforge3/conda-bld/xgboost_1598185652448/work/src/learner.cc:516: \n",
      "Parameters: { weights } might not be used.\n",
      "\n",
      "  This may not be accurate due to some parameters are only used in language bindings but\n",
      "  passed down to XGBoost core.  Or some parameters are not used but slip through this\n",
      "  verification. Please open an issue if you find above cases.\n",
      "\n",
      "\n",
      "Training Accuracy: 85.22%\n",
      "Validation accuracy: 84.14%\n"
     ]
    }
   ],
   "source": [
    "pipeline_xgb2 = Pipeline([('ss', StandardScaler()),\n",
    "                       ('imp', SimpleImputer(strategy='most_frequent')),\n",
    "                        ('smote', SMOTE()),\n",
    "                       ('xgb', XGBClassifier(learning_rate=0.1,\n",
    "                                             max_depth=5,\n",
    "                                             min_child_weight=4,\n",
    "                                             n_estimators=100,\n",
    "                                             scale_pos_weight=1,\n",
    "                                             subsample=0.7,\n",
    "                                             weights=50))])\n",
    "\n",
    "pipeline_xgb2.fit(X_train, y_train)\n",
    "\n",
    "# Predict on training and test sets\n",
    "xgb1_training_preds = pipeline_xgb2.predict(X_train)\n",
    "xgb1_test_preds = pipeline_xgb2.predict(X_test)\n",
    "\n",
    "# Accuracy of training and test sets\n",
    "training_accuracy = accuracy_score(y_train, xgb1_training_preds)\n",
    "test_accuracy = accuracy_score(y_test, xgb1_test_preds)\n",
    "\n",
    "print('Training Accuracy: {:.4}%'.format(training_accuracy * 100))\n",
    "print('Validation accuracy: {:.4}%'.format(test_accuracy * 100))\n"
   ]
  },
  {
   "cell_type": "markdown",
   "metadata": {},
   "source": [
    "A few of the remaining hyperparameters that were not included in the original gridsearch will now be tested in an effort to improve the model further."
   ]
  },
  {
   "cell_type": "code",
   "execution_count": 180,
   "metadata": {},
   "outputs": [
    {
     "name": "stdout",
     "output_type": "stream",
     "text": [
      "Fitting 3 folds for each of 15 candidates, totalling 45 fits\n"
     ]
    },
    {
     "name": "stderr",
     "output_type": "stream",
     "text": [
      "[Parallel(n_jobs=-1)]: Using backend LokyBackend with 8 concurrent workers.\n",
      "[Parallel(n_jobs=-1)]: Done  45 out of  45 | elapsed:  1.5min finished\n"
     ]
    },
    {
     "name": "stdout",
     "output_type": "stream",
     "text": [
      "[18:30:13] WARNING: /Users/runner/miniforge3/conda-bld/xgboost_1598185652448/work/src/learner.cc:516: \n",
      "Parameters: { weights } might not be used.\n",
      "\n",
      "  This may not be accurate due to some parameters are only used in language bindings but\n",
      "  passed down to XGBoost core.  Or some parameters are not used but slip through this\n",
      "  verification. Please open an issue if you find above cases.\n",
      "\n",
      "\n",
      "Grid Search found the following optimal parameters: \n",
      "xgb__colsample_bytree: 0.91\n",
      "xgb__reg_alpha: 0.03\n",
      "\n",
      "Training Accuracy: 85.13%\n",
      "Validation accuracy: 83.93%\n"
     ]
    }
   ],
   "source": [
    "\n",
    "xgb_grid3 = {\n",
    " 'xgb__colsample_bytree':[.88, .89, .90,.91,92],\n",
    "    'xgb__reg_alpha':[0.03, 0.07, 0.05]\n",
    "}\n",
    "\n",
    "xgb_gs3 = GridSearchCV(pipeline_xgb2,\n",
    "                        xgb_grid3,\n",
    "                        scoring='accuracy',\n",
    "                        cv=3, n_jobs=-1,\n",
    "                        verbose = 1,\n",
    "                        return_train_score=True)\n",
    "\n",
    "\n",
    "xgb_gs3.fit(X_train, y_train)\n",
    "\n",
    "best_parameters = xgb_gs3.best_params_\n",
    "\n",
    "print('Grid Search found the following optimal parameters: ')\n",
    "for param_name in sorted(best_parameters.keys()):\n",
    "    print('%s: %r' % (param_name, best_parameters[param_name]))\n",
    "\n",
    "training_preds = xgb_gs3.predict(X_train)\n",
    "test_preds = xgb_gs3.predict(X_test)\n",
    "training_accuracy = accuracy_score(y_train, training_preds)\n",
    "test_accuracy = accuracy_score(y_test, test_preds)\n",
    "\n",
    "print('')\n",
    "print('Training Accuracy: {:.4}%'.format(training_accuracy * 100))\n",
    "print('Validation accuracy: {:.4}%'.format(test_accuracy * 100))\n"
   ]
  },
  {
   "cell_type": "code",
   "execution_count": 232,
   "metadata": {},
   "outputs": [
    {
     "name": "stdout",
     "output_type": "stream",
     "text": [
      "Fitting 3 folds for each of 1000 candidates, totalling 3000 fits\n"
     ]
    },
    {
     "name": "stderr",
     "output_type": "stream",
     "text": [
      "[Parallel(n_jobs=-1)]: Using backend LokyBackend with 8 concurrent workers.\n",
      "[Parallel(n_jobs=-1)]: Done  25 tasks      | elapsed:   25.1s\n"
     ]
    },
    {
     "ename": "KeyboardInterrupt",
     "evalue": "",
     "output_type": "error",
     "traceback": [
      "\u001b[0;31m---------------------------------------------------------------------------\u001b[0m",
      "\u001b[0;31mKeyboardInterrupt\u001b[0m                         Traceback (most recent call last)",
      "\u001b[0;32m<ipython-input-232-925fce4b179a>\u001b[0m in \u001b[0;36m<module>\u001b[0;34m\u001b[0m\n\u001b[1;32m     22\u001b[0m \u001b[0;34m\u001b[0m\u001b[0m\n\u001b[1;32m     23\u001b[0m \u001b[0;34m\u001b[0m\u001b[0m\n\u001b[0;32m---> 24\u001b[0;31m \u001b[0mxgb_gs4\u001b[0m\u001b[0;34m.\u001b[0m\u001b[0mfit\u001b[0m\u001b[0;34m(\u001b[0m\u001b[0mX_train\u001b[0m\u001b[0;34m,\u001b[0m \u001b[0my_train\u001b[0m\u001b[0;34m)\u001b[0m\u001b[0;34m\u001b[0m\u001b[0;34m\u001b[0m\u001b[0m\n\u001b[0m\u001b[1;32m     25\u001b[0m \u001b[0;34m\u001b[0m\u001b[0m\n\u001b[1;32m     26\u001b[0m \u001b[0mbest_parameters\u001b[0m \u001b[0;34m=\u001b[0m \u001b[0mxgb_gs4\u001b[0m\u001b[0;34m.\u001b[0m\u001b[0mbest_params_\u001b[0m\u001b[0;34m\u001b[0m\u001b[0;34m\u001b[0m\u001b[0m\n",
      "\u001b[0;32m/opt/anaconda3/envs/learn-env/lib/python3.8/site-packages/sklearn/utils/validation.py\u001b[0m in \u001b[0;36minner_f\u001b[0;34m(*args, **kwargs)\u001b[0m\n\u001b[1;32m     70\u001b[0m                           FutureWarning)\n\u001b[1;32m     71\u001b[0m         \u001b[0mkwargs\u001b[0m\u001b[0;34m.\u001b[0m\u001b[0mupdate\u001b[0m\u001b[0;34m(\u001b[0m\u001b[0;34m{\u001b[0m\u001b[0mk\u001b[0m\u001b[0;34m:\u001b[0m \u001b[0marg\u001b[0m \u001b[0;32mfor\u001b[0m \u001b[0mk\u001b[0m\u001b[0;34m,\u001b[0m \u001b[0marg\u001b[0m \u001b[0;32min\u001b[0m \u001b[0mzip\u001b[0m\u001b[0;34m(\u001b[0m\u001b[0msig\u001b[0m\u001b[0;34m.\u001b[0m\u001b[0mparameters\u001b[0m\u001b[0;34m,\u001b[0m \u001b[0margs\u001b[0m\u001b[0;34m)\u001b[0m\u001b[0;34m}\u001b[0m\u001b[0;34m)\u001b[0m\u001b[0;34m\u001b[0m\u001b[0;34m\u001b[0m\u001b[0m\n\u001b[0;32m---> 72\u001b[0;31m         \u001b[0;32mreturn\u001b[0m \u001b[0mf\u001b[0m\u001b[0;34m(\u001b[0m\u001b[0;34m**\u001b[0m\u001b[0mkwargs\u001b[0m\u001b[0;34m)\u001b[0m\u001b[0;34m\u001b[0m\u001b[0;34m\u001b[0m\u001b[0m\n\u001b[0m\u001b[1;32m     73\u001b[0m     \u001b[0;32mreturn\u001b[0m \u001b[0minner_f\u001b[0m\u001b[0;34m\u001b[0m\u001b[0;34m\u001b[0m\u001b[0m\n\u001b[1;32m     74\u001b[0m \u001b[0;34m\u001b[0m\u001b[0m\n",
      "\u001b[0;32m/opt/anaconda3/envs/learn-env/lib/python3.8/site-packages/sklearn/model_selection/_search.py\u001b[0m in \u001b[0;36mfit\u001b[0;34m(self, X, y, groups, **fit_params)\u001b[0m\n\u001b[1;32m    734\u001b[0m                 \u001b[0;32mreturn\u001b[0m \u001b[0mresults\u001b[0m\u001b[0;34m\u001b[0m\u001b[0;34m\u001b[0m\u001b[0m\n\u001b[1;32m    735\u001b[0m \u001b[0;34m\u001b[0m\u001b[0m\n\u001b[0;32m--> 736\u001b[0;31m             \u001b[0mself\u001b[0m\u001b[0;34m.\u001b[0m\u001b[0m_run_search\u001b[0m\u001b[0;34m(\u001b[0m\u001b[0mevaluate_candidates\u001b[0m\u001b[0;34m)\u001b[0m\u001b[0;34m\u001b[0m\u001b[0;34m\u001b[0m\u001b[0m\n\u001b[0m\u001b[1;32m    737\u001b[0m \u001b[0;34m\u001b[0m\u001b[0m\n\u001b[1;32m    738\u001b[0m         \u001b[0;31m# For multi-metric evaluation, store the best_index_, best_params_ and\u001b[0m\u001b[0;34m\u001b[0m\u001b[0;34m\u001b[0m\u001b[0;34m\u001b[0m\u001b[0m\n",
      "\u001b[0;32m/opt/anaconda3/envs/learn-env/lib/python3.8/site-packages/sklearn/model_selection/_search.py\u001b[0m in \u001b[0;36m_run_search\u001b[0;34m(self, evaluate_candidates)\u001b[0m\n\u001b[1;32m   1527\u001b[0m     \u001b[0;32mdef\u001b[0m \u001b[0m_run_search\u001b[0m\u001b[0;34m(\u001b[0m\u001b[0mself\u001b[0m\u001b[0;34m,\u001b[0m \u001b[0mevaluate_candidates\u001b[0m\u001b[0;34m)\u001b[0m\u001b[0;34m:\u001b[0m\u001b[0;34m\u001b[0m\u001b[0;34m\u001b[0m\u001b[0m\n\u001b[1;32m   1528\u001b[0m         \u001b[0;34m\"\"\"Search n_iter candidates from param_distributions\"\"\"\u001b[0m\u001b[0;34m\u001b[0m\u001b[0;34m\u001b[0m\u001b[0m\n\u001b[0;32m-> 1529\u001b[0;31m         evaluate_candidates(ParameterSampler(\n\u001b[0m\u001b[1;32m   1530\u001b[0m             \u001b[0mself\u001b[0m\u001b[0;34m.\u001b[0m\u001b[0mparam_distributions\u001b[0m\u001b[0;34m,\u001b[0m \u001b[0mself\u001b[0m\u001b[0;34m.\u001b[0m\u001b[0mn_iter\u001b[0m\u001b[0;34m,\u001b[0m\u001b[0;34m\u001b[0m\u001b[0;34m\u001b[0m\u001b[0m\n\u001b[1;32m   1531\u001b[0m             random_state=self.random_state))\n",
      "\u001b[0;32m/opt/anaconda3/envs/learn-env/lib/python3.8/site-packages/sklearn/model_selection/_search.py\u001b[0m in \u001b[0;36mevaluate_candidates\u001b[0;34m(candidate_params)\u001b[0m\n\u001b[1;32m    706\u001b[0m                               n_splits, n_candidates, n_candidates * n_splits))\n\u001b[1;32m    707\u001b[0m \u001b[0;34m\u001b[0m\u001b[0m\n\u001b[0;32m--> 708\u001b[0;31m                 out = parallel(delayed(_fit_and_score)(clone(base_estimator),\n\u001b[0m\u001b[1;32m    709\u001b[0m                                                        \u001b[0mX\u001b[0m\u001b[0;34m,\u001b[0m \u001b[0my\u001b[0m\u001b[0;34m,\u001b[0m\u001b[0;34m\u001b[0m\u001b[0;34m\u001b[0m\u001b[0m\n\u001b[1;32m    710\u001b[0m                                                        \u001b[0mtrain\u001b[0m\u001b[0;34m=\u001b[0m\u001b[0mtrain\u001b[0m\u001b[0;34m,\u001b[0m \u001b[0mtest\u001b[0m\u001b[0;34m=\u001b[0m\u001b[0mtest\u001b[0m\u001b[0;34m,\u001b[0m\u001b[0;34m\u001b[0m\u001b[0;34m\u001b[0m\u001b[0m\n",
      "\u001b[0;32m/opt/anaconda3/envs/learn-env/lib/python3.8/site-packages/joblib/parallel.py\u001b[0m in \u001b[0;36m__call__\u001b[0;34m(self, iterable)\u001b[0m\n\u001b[1;32m   1059\u001b[0m \u001b[0;34m\u001b[0m\u001b[0m\n\u001b[1;32m   1060\u001b[0m             \u001b[0;32mwith\u001b[0m \u001b[0mself\u001b[0m\u001b[0;34m.\u001b[0m\u001b[0m_backend\u001b[0m\u001b[0;34m.\u001b[0m\u001b[0mretrieval_context\u001b[0m\u001b[0;34m(\u001b[0m\u001b[0;34m)\u001b[0m\u001b[0;34m:\u001b[0m\u001b[0;34m\u001b[0m\u001b[0;34m\u001b[0m\u001b[0m\n\u001b[0;32m-> 1061\u001b[0;31m                 \u001b[0mself\u001b[0m\u001b[0;34m.\u001b[0m\u001b[0mretrieve\u001b[0m\u001b[0;34m(\u001b[0m\u001b[0;34m)\u001b[0m\u001b[0;34m\u001b[0m\u001b[0;34m\u001b[0m\u001b[0m\n\u001b[0m\u001b[1;32m   1062\u001b[0m             \u001b[0;31m# Make sure that we get a last message telling us we are done\u001b[0m\u001b[0;34m\u001b[0m\u001b[0;34m\u001b[0m\u001b[0;34m\u001b[0m\u001b[0m\n\u001b[1;32m   1063\u001b[0m             \u001b[0melapsed_time\u001b[0m \u001b[0;34m=\u001b[0m \u001b[0mtime\u001b[0m\u001b[0;34m.\u001b[0m\u001b[0mtime\u001b[0m\u001b[0;34m(\u001b[0m\u001b[0;34m)\u001b[0m \u001b[0;34m-\u001b[0m \u001b[0mself\u001b[0m\u001b[0;34m.\u001b[0m\u001b[0m_start_time\u001b[0m\u001b[0;34m\u001b[0m\u001b[0;34m\u001b[0m\u001b[0m\n",
      "\u001b[0;32m/opt/anaconda3/envs/learn-env/lib/python3.8/site-packages/joblib/parallel.py\u001b[0m in \u001b[0;36mretrieve\u001b[0;34m(self)\u001b[0m\n\u001b[1;32m    938\u001b[0m             \u001b[0;32mtry\u001b[0m\u001b[0;34m:\u001b[0m\u001b[0;34m\u001b[0m\u001b[0;34m\u001b[0m\u001b[0m\n\u001b[1;32m    939\u001b[0m                 \u001b[0;32mif\u001b[0m \u001b[0mgetattr\u001b[0m\u001b[0;34m(\u001b[0m\u001b[0mself\u001b[0m\u001b[0;34m.\u001b[0m\u001b[0m_backend\u001b[0m\u001b[0;34m,\u001b[0m \u001b[0;34m'supports_timeout'\u001b[0m\u001b[0;34m,\u001b[0m \u001b[0;32mFalse\u001b[0m\u001b[0;34m)\u001b[0m\u001b[0;34m:\u001b[0m\u001b[0;34m\u001b[0m\u001b[0;34m\u001b[0m\u001b[0m\n\u001b[0;32m--> 940\u001b[0;31m                     \u001b[0mself\u001b[0m\u001b[0;34m.\u001b[0m\u001b[0m_output\u001b[0m\u001b[0;34m.\u001b[0m\u001b[0mextend\u001b[0m\u001b[0;34m(\u001b[0m\u001b[0mjob\u001b[0m\u001b[0;34m.\u001b[0m\u001b[0mget\u001b[0m\u001b[0;34m(\u001b[0m\u001b[0mtimeout\u001b[0m\u001b[0;34m=\u001b[0m\u001b[0mself\u001b[0m\u001b[0;34m.\u001b[0m\u001b[0mtimeout\u001b[0m\u001b[0;34m)\u001b[0m\u001b[0;34m)\u001b[0m\u001b[0;34m\u001b[0m\u001b[0;34m\u001b[0m\u001b[0m\n\u001b[0m\u001b[1;32m    941\u001b[0m                 \u001b[0;32melse\u001b[0m\u001b[0;34m:\u001b[0m\u001b[0;34m\u001b[0m\u001b[0;34m\u001b[0m\u001b[0m\n\u001b[1;32m    942\u001b[0m                     \u001b[0mself\u001b[0m\u001b[0;34m.\u001b[0m\u001b[0m_output\u001b[0m\u001b[0;34m.\u001b[0m\u001b[0mextend\u001b[0m\u001b[0;34m(\u001b[0m\u001b[0mjob\u001b[0m\u001b[0;34m.\u001b[0m\u001b[0mget\u001b[0m\u001b[0;34m(\u001b[0m\u001b[0;34m)\u001b[0m\u001b[0;34m)\u001b[0m\u001b[0;34m\u001b[0m\u001b[0;34m\u001b[0m\u001b[0m\n",
      "\u001b[0;32m/opt/anaconda3/envs/learn-env/lib/python3.8/site-packages/joblib/_parallel_backends.py\u001b[0m in \u001b[0;36mwrap_future_result\u001b[0;34m(future, timeout)\u001b[0m\n\u001b[1;32m    540\u001b[0m         AsyncResults.get from multiprocessing.\"\"\"\n\u001b[1;32m    541\u001b[0m         \u001b[0;32mtry\u001b[0m\u001b[0;34m:\u001b[0m\u001b[0;34m\u001b[0m\u001b[0;34m\u001b[0m\u001b[0m\n\u001b[0;32m--> 542\u001b[0;31m             \u001b[0;32mreturn\u001b[0m \u001b[0mfuture\u001b[0m\u001b[0;34m.\u001b[0m\u001b[0mresult\u001b[0m\u001b[0;34m(\u001b[0m\u001b[0mtimeout\u001b[0m\u001b[0;34m=\u001b[0m\u001b[0mtimeout\u001b[0m\u001b[0;34m)\u001b[0m\u001b[0;34m\u001b[0m\u001b[0;34m\u001b[0m\u001b[0m\n\u001b[0m\u001b[1;32m    543\u001b[0m         \u001b[0;32mexcept\u001b[0m \u001b[0mCfTimeoutError\u001b[0m \u001b[0;32mas\u001b[0m \u001b[0me\u001b[0m\u001b[0;34m:\u001b[0m\u001b[0;34m\u001b[0m\u001b[0;34m\u001b[0m\u001b[0m\n\u001b[1;32m    544\u001b[0m             \u001b[0;32mraise\u001b[0m \u001b[0mTimeoutError\u001b[0m \u001b[0;32mfrom\u001b[0m \u001b[0me\u001b[0m\u001b[0;34m\u001b[0m\u001b[0;34m\u001b[0m\u001b[0m\n",
      "\u001b[0;32m/opt/anaconda3/envs/learn-env/lib/python3.8/concurrent/futures/_base.py\u001b[0m in \u001b[0;36mresult\u001b[0;34m(self, timeout)\u001b[0m\n\u001b[1;32m    432\u001b[0m                 \u001b[0;32mreturn\u001b[0m \u001b[0mself\u001b[0m\u001b[0;34m.\u001b[0m\u001b[0m__get_result\u001b[0m\u001b[0;34m(\u001b[0m\u001b[0;34m)\u001b[0m\u001b[0;34m\u001b[0m\u001b[0;34m\u001b[0m\u001b[0m\n\u001b[1;32m    433\u001b[0m \u001b[0;34m\u001b[0m\u001b[0m\n\u001b[0;32m--> 434\u001b[0;31m             \u001b[0mself\u001b[0m\u001b[0;34m.\u001b[0m\u001b[0m_condition\u001b[0m\u001b[0;34m.\u001b[0m\u001b[0mwait\u001b[0m\u001b[0;34m(\u001b[0m\u001b[0mtimeout\u001b[0m\u001b[0;34m)\u001b[0m\u001b[0;34m\u001b[0m\u001b[0;34m\u001b[0m\u001b[0m\n\u001b[0m\u001b[1;32m    435\u001b[0m \u001b[0;34m\u001b[0m\u001b[0m\n\u001b[1;32m    436\u001b[0m             \u001b[0;32mif\u001b[0m \u001b[0mself\u001b[0m\u001b[0;34m.\u001b[0m\u001b[0m_state\u001b[0m \u001b[0;32min\u001b[0m \u001b[0;34m[\u001b[0m\u001b[0mCANCELLED\u001b[0m\u001b[0;34m,\u001b[0m \u001b[0mCANCELLED_AND_NOTIFIED\u001b[0m\u001b[0;34m]\u001b[0m\u001b[0;34m:\u001b[0m\u001b[0;34m\u001b[0m\u001b[0;34m\u001b[0m\u001b[0m\n",
      "\u001b[0;32m/opt/anaconda3/envs/learn-env/lib/python3.8/threading.py\u001b[0m in \u001b[0;36mwait\u001b[0;34m(self, timeout)\u001b[0m\n\u001b[1;32m    300\u001b[0m         \u001b[0;32mtry\u001b[0m\u001b[0;34m:\u001b[0m    \u001b[0;31m# restore state no matter what (e.g., KeyboardInterrupt)\u001b[0m\u001b[0;34m\u001b[0m\u001b[0;34m\u001b[0m\u001b[0m\n\u001b[1;32m    301\u001b[0m             \u001b[0;32mif\u001b[0m \u001b[0mtimeout\u001b[0m \u001b[0;32mis\u001b[0m \u001b[0;32mNone\u001b[0m\u001b[0;34m:\u001b[0m\u001b[0;34m\u001b[0m\u001b[0;34m\u001b[0m\u001b[0m\n\u001b[0;32m--> 302\u001b[0;31m                 \u001b[0mwaiter\u001b[0m\u001b[0;34m.\u001b[0m\u001b[0macquire\u001b[0m\u001b[0;34m(\u001b[0m\u001b[0;34m)\u001b[0m\u001b[0;34m\u001b[0m\u001b[0;34m\u001b[0m\u001b[0m\n\u001b[0m\u001b[1;32m    303\u001b[0m                 \u001b[0mgotit\u001b[0m \u001b[0;34m=\u001b[0m \u001b[0;32mTrue\u001b[0m\u001b[0;34m\u001b[0m\u001b[0;34m\u001b[0m\u001b[0m\n\u001b[1;32m    304\u001b[0m             \u001b[0;32melse\u001b[0m\u001b[0;34m:\u001b[0m\u001b[0;34m\u001b[0m\u001b[0;34m\u001b[0m\u001b[0m\n",
      "\u001b[0;31mKeyboardInterrupt\u001b[0m: "
     ]
    }
   ],
   "source": [
    "\n",
    "xbg_grid4 = {'xgb__objective':['reg:squarederror'],\n",
    "              'xgb__booster':['gbtree','gblinear'],\n",
    "              'xgb__learning_rate': [0.05 ,0.1, 0.2], \n",
    "              'xgb__max_depth': [3,4,5,7,10,15],\n",
    "              'xgb__min_child_weight': [2,3,4,10,15,20],\n",
    "              'xgb__colsample_bytree': [0.8, 0.9, 1],\n",
    "              'xgb__subsample': [ 0.7, 0.8],\n",
    "              'xgb__n_estimators': [20,50,80,100,150],\n",
    "              \"xgb__reg_alpha\"   : [0.5,0.2,1],\n",
    "              \"xgb__gamma\" : [0,1,2,3],\n",
    "              'xgb__weights' : [1, 25, 50, 75, 100]}\n",
    "\n",
    "        \n",
    "xgb_gs4 = RandomizedSearchCV(pipeline_xgb1,\n",
    "                        xbg_grid4,\n",
    "                        scoring='accuracy',\n",
    "                        n_iter=1000,\n",
    "                        cv=3,\n",
    "                        n_jobs=-1,\n",
    "                        verbose = 2,\n",
    "                        return_train_score=True)\n",
    "\n",
    "\n",
    "xgb_gs4.fit(X_train, y_train)\n",
    "\n",
    "best_parameters = xgb_gs4.best_params_\n",
    "\n",
    "print('Grid Search found the following optimal parameters: ')\n",
    "for param_name in sorted(best_parameters.keys()):\n",
    "    print('%s: %r' % (param_name, best_parameters[param_name]))\n",
    "\n",
    "training_preds = xgb_gs4.predict(X_train)\n",
    "test_preds = xgb_gs4.predict(X_test)\n",
    "training_accuracy = accuracy_score(y_train, training_preds)\n",
    "test_accuracy = accuracy_score(y_test, test_preds)\n",
    "\n",
    "print('')\n",
    "print('Training Accuracy: {:.4}%'.format(training_accuracy * 100))\n",
    "print('Validation accuracy: {:.4}%'.format(test_accuracy * 100))"
   ]
  },
  {
   "cell_type": "code",
   "execution_count": 216,
   "metadata": {},
   "outputs": [
    {
     "name": "stdout",
     "output_type": "stream",
     "text": [
      "[19:22:24] WARNING: /Users/runner/miniforge3/conda-bld/xgboost_1598185652448/work/src/learner.cc:516: \n",
      "Parameters: { weights } might not be used.\n",
      "\n",
      "  This may not be accurate due to some parameters are only used in language bindings but\n",
      "  passed down to XGBoost core.  Or some parameters are not used but slip through this\n",
      "  verification. Please open an issue if you find above cases.\n",
      "\n",
      "\n",
      "\n",
      "Training score: 85.28706939590614\n",
      "Test Score: 83.98981578553243\n",
      "XGB train ROC AUC score:0.7252%\n",
      "XGB test ROC AUC score:0.705%\n"
     ]
    }
   ],
   "source": [
    "pipeline_xgb_final = Pipeline([('ss', StandardScaler()),\n",
    "                       ('imp', SimpleImputer(strategy='most_frequent')),\n",
    "                       ('smote', SMOTE()),\n",
    "                       ('xgb', XGBClassifier(learning_rate=0.1,\n",
    "                                             max_depth=5,\n",
    "                                             min_child_weight=4,\n",
    "                                             n_estimators=100,\n",
    "                                             scale_pos_weight=1,\n",
    "                                             subsample=0.7,\n",
    "                                             weights=50))])\n",
    "\n",
    "pipeline_xgb_final.fit(X_train, y_train)\n",
    "\n",
    "\n",
    "training_accuracy_xgb_final = pipeline_xgb_final.score(X_train, y_train) * 100\n",
    "test_accuracy_xgb_final = pipeline_xgb_final.score(X_test, y_test) * 100\n",
    "\n",
    "print('')\n",
    "print('Training score:', training_accuracy_xgb_final)\n",
    "print('Test Score:', test_accuracy_xgb_final)\n",
    "\n",
    "xgb_final_train_preds = pipeline_xgb_final.predict(X_train)\n",
    "xgb_final_test_preds = pipeline_xgb_final.predict(X_test)\n",
    "\n",
    "\n",
    "print('XGB train ROC AUC score:{:.4}%'.format(roc_auc_score(y_train, xgb_final_train_preds)))\n",
    "print('XGB test ROC AUC score:{:.4}%'.format(roc_auc_score(y_test, xgb_final_test_preds)))\n",
    "\n"
   ]
  },
  {
   "cell_type": "markdown",
   "metadata": {},
   "source": [
    "### XGBoost Pipeline without SMOTE\n",
    "\n",
    "The XGBoost has built in features such as the scale_pos_weight hyperparameter that allows for XGBoost to natively deal with unbalanced data, to test if this creates a better model, a new XGBoost pipeline will be built out similar to before but without using SMOTE to balance the Dataset prior to the classifier being ran.\n",
    "\n",
    "Like previously, a baseline model will. be ran and then a Gridsearch will be utalized to find the optimal hyperparameters"
   ]
  },
  {
   "cell_type": "code",
   "execution_count": 64,
   "metadata": {},
   "outputs": [
    {
     "name": "stdout",
     "output_type": "stream",
     "text": [
      "\n",
      "Training score: 92.5411882176735\n",
      "Test Score: 83.48060506215366\n",
      "XGB train ROC AUC score:0.8495%\n",
      "XGB test ROC AUC score:0.6979%\n"
     ]
    }
   ],
   "source": [
    "pipeline_xgb_no_smote = Pipeline([('ss', StandardScaler()),\n",
    "                       ('imp', SimpleImputer(strategy='most_frequent')),\n",
    "                       ('xgb', XGBClassifier())])\n",
    "\n",
    "pipeline_xgb_no_smote.fit(X_train, y_train)\n",
    "\n",
    "\n",
    "training_accuracy_xgb_no_smote = pipeline_xgb_no_smote.score(X_train, y_train) * 100\n",
    "test_accuracy_xgb_no_smote = pipeline_xgb_no_smote.score(X_test, y_test) * 100\n",
    "\n",
    "print('')\n",
    "print('Training score:', training_accuracy_xgb_no_smote)\n",
    "print('Test Score:', test_accuracy_xgb_no_smote)\n",
    "\n",
    "xgb_no_smote_train_preds = pipeline_xgb_no_smote.predict(X_train)\n",
    "xgb_no_smote_test_preds = pipeline_xgb_no_smote.predict(X_test)\n",
    "\n",
    "\n",
    "print('XGB train ROC AUC score:{:.4}%'.format(roc_auc_score(y_train, xgb_train_preds)))\n",
    "print('XGB test ROC AUC score:{:.4}%'.format(roc_auc_score(y_test, xgb_test_preds)))\n",
    "\n"
   ]
  },
  {
   "cell_type": "markdown",
   "metadata": {},
   "source": [
    "## XGBoost without SMOTE Gridsearch"
   ]
  },
  {
   "cell_type": "code",
   "execution_count": 185,
   "metadata": {},
   "outputs": [
    {
     "name": "stdout",
     "output_type": "stream",
     "text": [
      "Fitting 3 folds for each of 300 candidates, totalling 900 fits\n"
     ]
    },
    {
     "name": "stderr",
     "output_type": "stream",
     "text": [
      "[Parallel(n_jobs=-1)]: Using backend LokyBackend with 8 concurrent workers.\n",
      "[Parallel(n_jobs=-1)]: Done  34 tasks      | elapsed:   40.5s\n",
      "[Parallel(n_jobs=-1)]: Done 184 tasks      | elapsed:  2.9min\n",
      "[Parallel(n_jobs=-1)]: Done 434 tasks      | elapsed:  7.1min\n",
      "[Parallel(n_jobs=-1)]: Done 784 tasks      | elapsed: 11.5min\n",
      "[Parallel(n_jobs=-1)]: Done 900 out of 900 | elapsed: 12.7min finished\n"
     ]
    },
    {
     "name": "stdout",
     "output_type": "stream",
     "text": [
      "[18:48:49] WARNING: /Users/runner/miniforge3/conda-bld/xgboost_1598185652448/work/src/learner.cc:516: \n",
      "Parameters: { weights } might not be used.\n",
      "\n",
      "  This may not be accurate due to some parameters are only used in language bindings but\n",
      "  passed down to XGBoost core.  Or some parameters are not used but slip through this\n",
      "  verification. Please open an issue if you find above cases.\n",
      "\n",
      "\n",
      "Grid Search found the following optimal parameters: \n",
      "xgb__booster: 'gbtree'\n",
      "xgb__colsample_bytree: 0.8\n",
      "xgb__gamma: 3\n",
      "xgb__learning_rate: 0.05\n",
      "xgb__max_depth: 15\n",
      "xgb__min_child_weight: 15\n",
      "xgb__n_estimators: 150\n",
      "xgb__reg_alpha: 1\n",
      "xgb__scale_pos_weight: 1\n",
      "xgb__subsample: 0.7\n",
      "xgb__weights: 25\n",
      "\n",
      "Training Accuracy: 86.17%\n",
      "Validation accuracy: 83.96%\n"
     ]
    }
   ],
   "source": [
    "xgb_grid5 = { 'xgb__booster':['gbtree','gblinear'],\n",
    "              'xgb__learning_rate': [0.05 ,0.1, 0.2], \n",
    "              'xgb__max_depth': [4,5,7,10,15],\n",
    "              'xgb__min_child_weight': [2,4,10,15,20],\n",
    "              'xgb__colsample_bytree': [0.8, 0.9, 1],\n",
    "              'xgb__subsample': [ 0.7, 0.8],\n",
    "              'xgb__n_estimators': [20,50,80,100,150],\n",
    "              \"xgb__reg_alpha\"   : [0.5,0.2,1],\n",
    "              \"xgb__gamma\" : [0,1,2,3],\n",
    "              'xgb__weights' : [1, 25, 50, 75, 100],\n",
    "              'xgb__scale_pos_weight' : [1,3,4,5]}\n",
    "\n",
    "xgb_gs5 = RandomizedSearchCV(pipeline_xgb_no_smote,\n",
    "                        xgb_grid5,\n",
    "                        scoring='accuracy',\n",
    "                        n_iter=300,\n",
    "                        cv=3,\n",
    "                        n_jobs=-1,\n",
    "                        verbose = 1,\n",
    "                        return_train_score=True)\n",
    "\n",
    "\n",
    "xgb_gs5.fit(X_train, y_train)\n",
    "\n",
    "best_parameters = xgb_gs5.best_params_\n",
    "\n",
    "print('Grid Search found the following optimal parameters: ')\n",
    "for param_name in sorted(best_parameters.keys()):\n",
    "    print('%s: %r' % (param_name, best_parameters[param_name]))\n",
    "\n",
    "training_preds = xgb_gs5.predict(X_train)\n",
    "test_preds = xgb_gs5.predict(X_test)\n",
    "training_accuracy = accuracy_score(y_train, training_preds)\n",
    "test_accuracy = accuracy_score(y_test, test_preds)\n",
    "\n",
    "print('')\n",
    "print('Training Accuracy: {:.4}%'.format(training_accuracy * 100))\n",
    "print('Validation accuracy: {:.4}%'.format(test_accuracy * 100))"
   ]
  },
  {
   "cell_type": "markdown",
   "metadata": {},
   "source": [
    "The best hyperparameters for the XGBoost model without smote will be hardcoded into a finalized model."
   ]
  },
  {
   "cell_type": "code",
   "execution_count": 212,
   "metadata": {},
   "outputs": [
    {
     "name": "stdout",
     "output_type": "stream",
     "text": [
      "[19:20:53] WARNING: /Users/runner/miniforge3/conda-bld/xgboost_1598185652448/work/src/learner.cc:516: \n",
      "Parameters: { weights } might not be used.\n",
      "\n",
      "  This may not be accurate due to some parameters are only used in language bindings but\n",
      "  passed down to XGBoost core.  Or some parameters are not used but slip through this\n",
      "  verification. Please open an issue if you find above cases.\n",
      "\n",
      "\n",
      "\n",
      "Training score: 86.17074388417375\n",
      "Test Score: 83.95986221356897\n",
      "XGB train ROC AUC score:0.7326%\n",
      "XGB test ROC AUC score:0.6971%\n"
     ]
    }
   ],
   "source": [
    "pipeline_xgb_no_smote_final = Pipeline([('ss', StandardScaler()),\n",
    "                       ('imp', SimpleImputer(strategy='most_frequent')),\n",
    "                       ('xgb', XGBClassifier(learning_rate=0.05,\n",
    "                                             max_depth=15,\n",
    "                                             min_child_weight=15,\n",
    "                                             n_estimators=150,\n",
    "                                             scale_pos_weight=1,\n",
    "                                             subsample=0.7,\n",
    "                                             weights=25,\n",
    "                                             gamma=3,\n",
    "                                             colsample_bytree=0.8,\n",
    "                                             reg_alpha=1,\n",
    "                                             booster='gbtree'\n",
    "                                             ))])\n",
    "\n",
    "pipeline_xgb_no_smote_final.fit(X_train, y_train)\n",
    "\n",
    "\n",
    "training_accuracy_xgb_no_smote_final = pipeline_xgb_no_smote_final.score(X_train, y_train) * 100\n",
    "test_accuracy_xgb_no_smote_final = pipeline_xgb_no_smote_final.score(X_test, y_test) * 100\n",
    "\n",
    "print('')\n",
    "print('Training score:', training_accuracy_xgb_no_smote_final)\n",
    "print('Test Score:', test_accuracy_xgb_no_smote_final)\n",
    "\n",
    "xgb_no_smote_final_train_preds = pipeline_xgb_no_smote_final.predict(X_train)\n",
    "xgb_no_smote_final_test_preds = pipeline_xgb_no_smote_final.predict(X_test)\n",
    "\n",
    "\n",
    "print('XGB train ROC AUC score:{:.4}%'.format(roc_auc_score(y_train, xgb_no_smote_final_train_preds)))\n",
    "print('XGB test ROC AUC score:{:.4}%'.format(roc_auc_score(y_test, xgb_no_smote_final_test_preds)))\n"
   ]
  },
  {
   "cell_type": "markdown",
   "metadata": {},
   "source": [
    "# Model Comparison\n",
    "\n",
    "All of the models have been iterated upon using a gridsearch of some sort in an attempt to optimize their performance, now the models will be compared in order to determine which model is best for our current goal of predicting H1N1 Vaccine status. The KNN model did significantly worse than the other models so that will be left out of this comparison."
   ]
  },
  {
   "cell_type": "code",
   "execution_count": 87,
   "metadata": {},
   "outputs": [],
   "source": [
    "'''\n",
    "This function creates a heatmapped confusion matrix as well as a classification report for the model that is input, the\n",
    "y_test set is used to compare to the model's X_test predictions to to create the scores. \n",
    "'''\n",
    "\n",
    "def make_confusion_and_classification(model, model_name):\n",
    "    #Make Predictions for model\n",
    "    preds = model.predict(X_test)\n",
    "    \n",
    "    #Create confusion matrix\n",
    "    conmat = confusion_matrix(y_test, preds)\n",
    "    \n",
    "    #Create dataframe from confusion matrix\n",
    "    val = np.mat(conmat)\n",
    "    classnames = list(set(y_train))\n",
    "    df_cm = pd.DataFrame(val, index=classnames, columns=classnames)\n",
    "    \n",
    "    #generate heatmap confusion matrix\n",
    "    plt.figure()\n",
    "    heatmap = sns.heatmap(df_cm, annot=True, cmap='Reds',fmt='g')\n",
    "    heatmap.yaxis.set_ticklabels(heatmap.yaxis.get_ticklabels(), rotation=0, ha='right')\n",
    "    heatmap.xaxis.set_ticklabels(heatmap.xaxis.get_ticklabels(), rotation=0, ha='right')\n",
    "    plt.ylabel('True label')\n",
    "    plt.xlabel('Predicted label')\n",
    "    plt.title(model_name)\n",
    "    plt.show()\n",
    "    \n",
    "    #generate classification report\n",
    "    print(classification_report(y_test, preds))\n",
    "    \n"
   ]
  },
  {
   "cell_type": "code",
   "execution_count": 217,
   "metadata": {},
   "outputs": [
    {
     "name": "stdout",
     "output_type": "stream",
     "text": [
      "Random Forest Model\n",
      "Random Forest Training score: 92.39%\n",
      "Random Forest Testing score:83.96%\n",
      "Random Forest train ROC AUC score:84.24%\n",
      "Random Forest test ROC AUC score:69.87%\n",
      "\n",
      "XGBoost Model\n",
      "XGB Training score:85.29%\n",
      "XGB Test Score:83.99%\n",
      "XGB train ROC AUC score:72.52%\n",
      "XGB test ROC AUC score:70.5%\n",
      "\n",
      "XGBoost, no SMOTE Model\n",
      "XGB, no SMOTE, model\n",
      "XGB, no SMOTE Training score: 86.17%\n",
      "XGB, no SMOTE Testing score: 83.96%\n",
      "XGB, no SMOTE train ROC AUC score:73.26%\n",
      "XGB, no SMOTE test ROC AUC score:69.71%\n"
     ]
    }
   ],
   "source": [
    "#Printing the training and test scores for the best two models\n",
    "print('Random Forest Model')\n",
    "print('Random Forest Training score: {:.4}%'.format(training_score_rf_final))\n",
    "print('Random Forest Testing score:{:.4}%'.format(testing_score_rf_final))\n",
    "print('Random Forest train ROC AUC score:{:.4}%'.format(roc_auc_score(y_train, rf_y_train_preds) * 100))\n",
    "print('Random Forest test ROC AUC score:{:.4}%'.format(roc_auc_score(y_test, rf_y_test_preds) * 100))\n",
    "\n",
    "print('')\n",
    "print('XGBoost Model')\n",
    "print('XGB Training score:{:.4}%'.format(training_accuracy_xgb_final))\n",
    "print('XGB Test Score:{:.4}%'.format(test_accuracy_xgb_final))\n",
    "print('XGB train ROC AUC score:{:.4}%'.format(roc_auc_score(y_train, xgb_final_train_preds) * 100))\n",
    "print('XGB test ROC AUC score:{:.4}%'.format(roc_auc_score(y_test, xgb_final_test_preds) * 100))\n",
    "\n",
    "print('')\n",
    "print('XGBoost, no SMOTE Model')\n",
    "print('XGB, no SMOTE, model')\n",
    "print('XGB, no SMOTE Training score: {:.4}%'.format(training_accuracy_xgb_no_smote_final))\n",
    "print('XGB, no SMOTE Testing score: {:.4}%'.format(test_accuracy_xgb_no_smote_final))\n",
    "print('XGB, no SMOTE train ROC AUC score:{:.4}%'.format(roc_auc_score(y_train, xgb_no_smote_final_train_preds) * 100))\n",
    "print('XGB, no SMOTE test ROC AUC score:{:.4}%'.format(roc_auc_score(y_test, xgb_no_smote_final_test_preds) * 100))\n"
   ]
  },
  {
   "cell_type": "markdown",
   "metadata": {},
   "source": [
    "All three of the finalized model are fairly close in thier accuracy scoring as well as  the ROC AUC scores. When comparing the three, the XGBoost Model has slightly better testing accuracy as well as being less overfit to the training data than the other models, this model also has the highest ROC AUC Score for the test group by a small margin.\n",
    "\n",
    "Confusion Matrices as well as classification reports for each model will be examined next to get a better idea of these model's performance."
   ]
  },
  {
   "cell_type": "code",
   "execution_count": 218,
   "metadata": {},
   "outputs": [
    {
     "data": {
      "image/png": "[encoded data removed]",
      "text/plain": [
       "<Figure size 432x288 with 2 Axes>"
      ]
     },
     "metadata": {
      "needs_background": "light"
     },
     "output_type": "display_data"
    },
    {
     "name": "stdout",
     "output_type": "stream",
     "text": [
      "              precision    recall  f1-score   support\n",
      "\n",
      "           0       0.87      0.94      0.90      5260\n",
      "           1       0.68      0.45      0.55      1417\n",
      "\n",
      "    accuracy                           0.84      6677\n",
      "   macro avg       0.77      0.70      0.72      6677\n",
      "weighted avg       0.83      0.84      0.83      6677\n",
      "\n",
      "------------------------------------------------------------\n"
     ]
    },
    {
     "data": {
      "image/png": "[encoded data removed]",
      "text/plain": [
       "<Figure size 432x288 with 2 Axes>"
      ]
     },
     "metadata": {
      "needs_background": "light"
     },
     "output_type": "display_data"
    },
    {
     "name": "stdout",
     "output_type": "stream",
     "text": [
      "              precision    recall  f1-score   support\n",
      "\n",
      "           0       0.87      0.94      0.90      5260\n",
      "           1       0.68      0.47      0.56      1417\n",
      "\n",
      "    accuracy                           0.84      6677\n",
      "   macro avg       0.77      0.71      0.73      6677\n",
      "weighted avg       0.83      0.84      0.83      6677\n",
      "\n",
      "------------------------------------------------------------\n"
     ]
    },
    {
     "data": {
      "image/png": "[encoded data removed]",
      "text/plain": [
       "<Figure size 432x288 with 2 Axes>"
      ]
     },
     "metadata": {
      "needs_background": "light"
     },
     "output_type": "display_data"
    },
    {
     "name": "stdout",
     "output_type": "stream",
     "text": [
      "              precision    recall  f1-score   support\n",
      "\n",
      "           0       0.91      0.84      0.87      5260\n",
      "           1       0.54      0.67      0.60      1417\n",
      "\n",
      "    accuracy                           0.81      6677\n",
      "   macro avg       0.72      0.76      0.74      6677\n",
      "weighted avg       0.83      0.81      0.81      6677\n",
      "\n"
     ]
    }
   ],
   "source": [
    "make_confusion_and_classification(pipeline_rf_final, 'pipeline_rf_final')    \n",
    "print('-' * 60)\n",
    "make_confusion_and_classification(pipeline_xgb_final, 'pipeline_xgb_final')\n",
    "print('-' * 60)\n",
    "make_confusion_and_classification(pipeline_xgb_no_smote2, 'pipeline_xgb_no_smote_final')"
   ]
  },
  {
   "cell_type": "markdown",
   "metadata": {},
   "source": [
    "All three of the models have fairly close scores accross the board. To choose which of these models will work best, the context of our business problem must be considered. The XGB no SMOTE model has a slightly better f1 score on the test set but within the confusion matrix it can be seen that this model creates about twice as many false positives as false negatives. Since the overall goal of model is looking to help increase vaccine rates, those who are predicted to not get vaccinated, coded as '0', will be the target of the intervertions recommended by this model, therefore it would be more beneficial to have more false negative results as this would make it less likely to miss people who belong to the non-vaccinated group. On the  lip-side, applying the suggested interventions onto a false negative subject will not be detreimental to this subject. This leave the Random Forest model and the XGBoot model that used smote.\n",
    "\n",
    "Both have accuracy scores of 84% and are fairly similar across all metrics. The number of false negatives is considerably higher than false positives in both models but as previously discussed, that is prefferred in this instance.\n",
    "\n",
    "It seems that the model utalizing XGBoost performed slightly better on the test dataset overall, with a higher recall score as well as f1 score. Taking this information into consideration the final model for this project will be the XGBoost model."
   ]
  },
  {
   "cell_type": "markdown",
   "metadata": {},
   "source": [
    "### Feature Importance\n",
    "\n",
    "Now that a final model has been chosen, the coefficients of the features need to be examined in order to determine which factors are the most important in determining vaccine status, so that useful action steps can be recommended in the hope of increasing vaccine rates. The top 20 features will be examined."
   ]
  },
  {
   "cell_type": "code",
   "execution_count": 219,
   "metadata": {},
   "outputs": [],
   "source": [
    "# Get the names of each feature\n",
    "feature_names = list(X.columns)\n",
    "\n",
    "# Get the coefficients of each feature\n",
    "coefs = pipeline_xgb_final.steps[3][1].feature_importances_\n",
    "\n",
    "\n",
    "# Zip coefficients and names together and make a DataFrame\n",
    "zipped = zip(feature_names, coefs)\n",
    "feat_imp_df = pd.DataFrame(zipped, columns=[\"feature\", \"value\"])\n",
    "# Sort the features by the absolute value of their coefficient\n",
    "feat_imp_df[\"abs_value\"] = feat_imp_df[\"value\"].apply(lambda x: abs(x))\n",
    "feat_imp_df = feat_imp_df.sort_values(\"abs_value\", ascending=False)\n"
   ]
  },
  {
   "cell_type": "code",
   "execution_count": 220,
   "metadata": {},
   "outputs": [
    {
     "data": {
      "text/plain": [
       "Text(0.5, 0, 'Feature Name')"
      ]
     },
     "execution_count": 220,
     "metadata": {},
     "output_type": "execute_result"
    },
    {
     "data": {
      "image/png": "[encoded data removed]",
      "text/plain": [
       "<Figure size 864x504 with 1 Axes>"
      ]
     },
     "metadata": {
      "needs_background": "light"
     },
     "output_type": "display_data"
    }
   ],
   "source": [
    "#Feature importance bar graph\n",
    "import seaborn as sns\n",
    "fig, ax = plt.subplots(1, 1, figsize=(12, 7))\n",
    "sns.barplot(x=\"feature\",\n",
    "            y=\"value\",\n",
    "            data=feat_imp_df.head(20))\n",
    "\n",
    "ax.set_xticklabels(ax.get_xticklabels(), rotation=90, fontsize=20)\n",
    "ax.set_title(\"Top 20 Features Correlating to H1N1 Vaccine Status\", fontsize=25)\n",
    "ax.set_ylabel(\"Coef\", fontsize=22)\n",
    "ax.set_xlabel(\"Feature Name\", fontsize=22)"
   ]
  },
  {
   "cell_type": "markdown",
   "metadata": {},
   "source": [
    "In order to determine the sign of these coefficents, the top twenty real values will be examined instead of the absolute values."
   ]
  },
  {
   "cell_type": "code",
   "execution_count": 196,
   "metadata": {},
   "outputs": [
    {
     "data": {
      "text/html": [
       "<div>\n",
       "<style scoped>\n",
       "    .dataframe tbody tr th:only-of-type {\n",
       "        vertical-align: middle;\n",
       "    }\n",
       "\n",
       "    .dataframe tbody tr th {\n",
       "        vertical-align: top;\n",
       "    }\n",
       "\n",
       "    .dataframe thead th {\n",
       "        text-align: right;\n",
       "    }\n",
       "</style>\n",
       "<table border=\"1\" class=\"dataframe\">\n",
       "  <thead>\n",
       "    <tr style=\"text-align: right;\">\n",
       "      <th></th>\n",
       "      <th>feature</th>\n",
       "      <th>value</th>\n",
       "      <th>abs_value</th>\n",
       "    </tr>\n",
       "  </thead>\n",
       "  <tbody>\n",
       "    <tr>\n",
       "      <th>9</th>\n",
       "      <td>doctor_recc_h1n1</td>\n",
       "      <td>0.184998</td>\n",
       "      <td>0.184998</td>\n",
       "    </tr>\n",
       "    <tr>\n",
       "      <th>14</th>\n",
       "      <td>opinion_h1n1_vacc_effective</td>\n",
       "      <td>0.119447</td>\n",
       "      <td>0.119447</td>\n",
       "    </tr>\n",
       "    <tr>\n",
       "      <th>15</th>\n",
       "      <td>opinion_h1n1_risk</td>\n",
       "      <td>0.058838</td>\n",
       "      <td>0.058838</td>\n",
       "    </tr>\n",
       "    <tr>\n",
       "      <th>18</th>\n",
       "      <td>opinion_seas_risk</td>\n",
       "      <td>0.050079</td>\n",
       "      <td>0.050079</td>\n",
       "    </tr>\n",
       "    <tr>\n",
       "      <th>1</th>\n",
       "      <td>h1n1_knowledge</td>\n",
       "      <td>0.048310</td>\n",
       "      <td>0.048310</td>\n",
       "    </tr>\n",
       "    <tr>\n",
       "      <th>41</th>\n",
       "      <td>marital_status_Not Married</td>\n",
       "      <td>0.028764</td>\n",
       "      <td>0.028764</td>\n",
       "    </tr>\n",
       "    <tr>\n",
       "      <th>6</th>\n",
       "      <td>behavioral_large_gatherings</td>\n",
       "      <td>0.026847</td>\n",
       "      <td>0.026847</td>\n",
       "    </tr>\n",
       "    <tr>\n",
       "      <th>13</th>\n",
       "      <td>health_worker</td>\n",
       "      <td>0.026584</td>\n",
       "      <td>0.026584</td>\n",
       "    </tr>\n",
       "    <tr>\n",
       "      <th>8</th>\n",
       "      <td>behavioral_touch_face</td>\n",
       "      <td>0.024081</td>\n",
       "      <td>0.024081</td>\n",
       "    </tr>\n",
       "    <tr>\n",
       "      <th>19</th>\n",
       "      <td>opinion_seas_sick_from_vacc</td>\n",
       "      <td>0.023259</td>\n",
       "      <td>0.023259</td>\n",
       "    </tr>\n",
       "    <tr>\n",
       "      <th>17</th>\n",
       "      <td>opinion_seas_vacc_effective</td>\n",
       "      <td>0.020484</td>\n",
       "      <td>0.020484</td>\n",
       "    </tr>\n",
       "    <tr>\n",
       "      <th>7</th>\n",
       "      <td>behavioral_outside_home</td>\n",
       "      <td>0.019279</td>\n",
       "      <td>0.019279</td>\n",
       "    </tr>\n",
       "    <tr>\n",
       "      <th>34</th>\n",
       "      <td>race_White</td>\n",
       "      <td>0.017481</td>\n",
       "      <td>0.017481</td>\n",
       "    </tr>\n",
       "    <tr>\n",
       "      <th>11</th>\n",
       "      <td>chronic_med_condition</td>\n",
       "      <td>0.017415</td>\n",
       "      <td>0.017415</td>\n",
       "    </tr>\n",
       "    <tr>\n",
       "      <th>10</th>\n",
       "      <td>doctor_recc_seasonal</td>\n",
       "      <td>0.017391</td>\n",
       "      <td>0.017391</td>\n",
       "    </tr>\n",
       "    <tr>\n",
       "      <th>0</th>\n",
       "      <td>h1n1_concern</td>\n",
       "      <td>0.016817</td>\n",
       "      <td>0.016817</td>\n",
       "    </tr>\n",
       "    <tr>\n",
       "      <th>16</th>\n",
       "      <td>opinion_h1n1_sick_from_vacc</td>\n",
       "      <td>0.016239</td>\n",
       "      <td>0.016239</td>\n",
       "    </tr>\n",
       "    <tr>\n",
       "      <th>26</th>\n",
       "      <td>age_group_65+ Years</td>\n",
       "      <td>0.014341</td>\n",
       "      <td>0.014341</td>\n",
       "    </tr>\n",
       "    <tr>\n",
       "      <th>29</th>\n",
       "      <td>education_College Graduate</td>\n",
       "      <td>0.012991</td>\n",
       "      <td>0.012991</td>\n",
       "    </tr>\n",
       "    <tr>\n",
       "      <th>25</th>\n",
       "      <td>age_group_55 - 64 Years</td>\n",
       "      <td>0.012196</td>\n",
       "      <td>0.012196</td>\n",
       "    </tr>\n",
       "  </tbody>\n",
       "</table>\n",
       "</div>"
      ],
      "text/plain": [
       "                        feature     value  abs_value\n",
       "9              doctor_recc_h1n1  0.184998   0.184998\n",
       "14  opinion_h1n1_vacc_effective  0.119447   0.119447\n",
       "15            opinion_h1n1_risk  0.058838   0.058838\n",
       "18            opinion_seas_risk  0.050079   0.050079\n",
       "1                h1n1_knowledge  0.048310   0.048310\n",
       "41   marital_status_Not Married  0.028764   0.028764\n",
       "6   behavioral_large_gatherings  0.026847   0.026847\n",
       "13                health_worker  0.026584   0.026584\n",
       "8         behavioral_touch_face  0.024081   0.024081\n",
       "19  opinion_seas_sick_from_vacc  0.023259   0.023259\n",
       "17  opinion_seas_vacc_effective  0.020484   0.020484\n",
       "7       behavioral_outside_home  0.019279   0.019279\n",
       "34                   race_White  0.017481   0.017481\n",
       "11        chronic_med_condition  0.017415   0.017415\n",
       "10         doctor_recc_seasonal  0.017391   0.017391\n",
       "0                  h1n1_concern  0.016817   0.016817\n",
       "16  opinion_h1n1_sick_from_vacc  0.016239   0.016239\n",
       "26          age_group_65+ Years  0.014341   0.014341\n",
       "29   education_College Graduate  0.012991   0.012991\n",
       "25      age_group_55 - 64 Years  0.012196   0.012196"
      ]
     },
     "execution_count": 196,
     "metadata": {},
     "output_type": "execute_result"
    }
   ],
   "source": [
    "feat_imp_df.sort_values('abs_value', ascending=False).head(20)"
   ]
  },
  {
   "cell_type": "markdown",
   "metadata": {},
   "source": [
    "All of the coefficients for the top twenty most important features are all positive, using this information action steps can be recommended that address these features directly in the hope that these interventions will increase H1N1 vaccination rates\n",
    "\n",
    "Based off the final model, the most important features regarding H1N1 Vaccine status are:\n",
    ">  * A doctor's recommendation to take the vaccine (0.18)\n",
    ">  * One's Opinion on the effectiveness of the vaccine (0.12)\n",
    ">  * One's opinion on the risk of H1N1 (0.06)\n",
    ">  * One's opinion on the risk of seasonal flu (0.05)\n",
    ">  * One's Knowledge of the H1N1 diesease (0.05)\n",
    "\n",
    "\n",
    "# Recommendations \n",
    "\n",
    "Based on the information gathered from the finalized classification prediction model, the following recommendations will be given to the NIH in an attempt to give them action steps that will increase the rates of vacination for the Corona Virus as well as future diseases.\n",
    "\n",
    "### 1. Have doctors recommend Vaccinations upon visits\n",
    "> The factor the had the greatest overall correlation with a positive vaccine status was a recommendation from a Doctor, in order to best utalize this information it is important that known and trusted doctors, such as one's PCP or pediatrician are recommending vaccines at every reasonable opportunity that presents itself. \n",
    "### 2. Diseminate information on the effectiveness of the Vaccine and removal of false anti-vaccine rhetoric\n",
    "> The seconnd most impactful factor was the subjects opinion of the effectiveness of the vaccine, to combat this it is important that this information is packaged in an approachable way and given to the public as increasing this knowledge may increase vaccine rates.\n",
    "### 3. Be sure that people fully understand the risks of the present flu disease as well as the seasonal flu\n",
    "> The next two strongest factors were found to be the subject's opinion on the risks of the H1N1 disease as well as the seasonal flu, this is a delicate subject as the risks should not be communicated in a way that will cause a panic, but it is important that the true risks are well known by the population so that they have a better idea of the cost-benefit of recieving a vaccine.\n",
    "\n",
    "### 4. Help the public understand the nature of the disease better\n",
    "> A correlation exists that shows that as people better understood the H1N1 disease they were more likely to get vaccinated for the disease. Much like the other recommendations it is important this this information is packaged in an appropriate non-technical manner so that the average person can understand more about the present disease."
   ]
  },
  {
   "cell_type": "markdown",
   "metadata": {},
   "source": [
    "# Conclusions\n",
    "\n",
    "Based on the information generated by the predictive classification model that has been built out, it seem that information is the key to helping people accepting vaccinations. Whether it is information about the risk of the disease or the effectiveness of the vaccines, it seem that the more people understand the disease the more responsive people are to taking vaccines.\n",
    "\n",
    "Communication between the highly train scientific population that studies diseases of this nature and the gerneral population has always been a challenge. It is often not sufficent to simply put out the research verbatum, in the modern day, people's attention is always being battled for from multiple fronts so it is important that the information is placed into places people already frequent such as social media sites or doctor's offices and is packaged in an attractive and understandable format in order to reach everyone without the need for previous technical knowledge.\n",
    "\n",
    "It is the hope of the project team that these conclusions can be utalized to help inform the NIH on where they should be putting their efforts regarding disease similar to H1N1 in the future in order to maximize vaccine rates accross the population and ulimatly avoid any avoidable harm that may be caused by a disease of this nature.\n"
   ]
  },
  {
   "cell_type": "code",
   "execution_count": null,
   "metadata": {},
   "outputs": [],
   "source": []
  }
 ],
 "metadata": {
  "kernelspec": {
   "display_name": "Python 3",
   "language": "python",
   "name": "python3"
  },
  "language_info": {
   "codemirror_mode": {
    "name": "ipython",
    "version": 3
   },
   "file_extension": ".py",
   "mimetype": "text/x-python",
   "name": "python",
   "nbconvert_exporter": "python",
   "pygments_lexer": "ipython3",
   "version": "3.8.5"
  }
 },
 "nbformat": 4,
 "nbformat_minor": 4
}
